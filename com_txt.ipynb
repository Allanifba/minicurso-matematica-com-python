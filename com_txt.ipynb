{
 "cells": [
  {
   "cell_type": "markdown",
   "id": "3a2c079b",
   "metadata": {
    "id": "3a2c079b",
    "slideshow": {
     "slide_type": "slide"
    }
   },
   "source": [
    "<img src=\"img1.jpg\" style=\"display: block; margin-left: auto; margin-right: auto; height: 300px;\">\n",
    "\n",
    "# <font><p style=\"text-align:center;\">Matemática Com Python</p></font>\n",
    "\n",
    "### <font><p style=\"text-align:center;\">Allan de Sousa Soares</p></font>"
   ]
  },
  {
   "cell_type": "markdown",
   "id": "4fe63899",
   "metadata": {
    "id": "4fe63899",
    "slideshow": {
     "slide_type": "slide"
    }
   },
   "source": [
    "<img src=\"img3.gif\" style=\"display: block; margin-left: auto; margin-right: auto; height: 150px;\">\n",
    "\n",
    "\n",
    "# <font><p style=\"text-align:center;\">Python, o que é? Morde?</p></font>"
   ]
  },
  {
   "cell_type": "markdown",
   "id": "32dd209c",
   "metadata": {
    "id": "32dd209c",
    "slideshow": {
     "slide_type": "slide"
    }
   },
   "source": [
    "## Python é uma linguagem de programação de alto nível, interpretada, orientada a objetos e de propósito geral. Foi criada em 1991 por Guido van Rossum e tem como objetivo principal ser fácil de ler e escrever, com uma sintaxe clara e simples.\n",
    "<img src=\"img4.png\" style=\"display: block; margin-left: auto; margin-right: auto; height: 300px;\">"
   ]
  },
  {
   "cell_type": "markdown",
   "id": "8bbee163",
   "metadata": {
    "id": "8bbee163",
    "slideshow": {
     "slide_type": "slide"
    }
   },
   "source": [
    "# <font><p style=\"text-align:center;\">Introdução</p></font>"
   ]
  },
  {
   "cell_type": "markdown",
   "id": "f44b2dca",
   "metadata": {
    "id": "f44b2dca",
    "slideshow": {
     "slide_type": "slide"
    }
   },
   "source": [
    "## <font color='red'><p style=\"text-align:center;\">A Pergunta Mais Importante!</p></font>\n",
    "\n",
    "<img src=\"img2.jpg\" style=\"display: block; margin-left: auto; margin-right: auto; height: 200px;\">"
   ]
  },
  {
   "cell_type": "markdown",
   "id": "0c763350",
   "metadata": {
    "id": "0c763350",
    "slideshow": {
     "slide_type": "slide"
    }
   },
   "source": [
    "## <font color='red'><p style=\"text-align:center;\">Por que devo me interessar por aprender a linguagem Python?</p></font>"
   ]
  },
  {
   "cell_type": "markdown",
   "id": "5b488cf3",
   "metadata": {
    "id": "5b488cf3",
    "slideshow": {
     "slide_type": "slide"
    }
   },
   "source": [
    "## Existem muitas razões pelas quais você pode aprender a linguagem Python. Aqui estão algumas delas:"
   ]
  },
  {
   "cell_type": "markdown",
   "id": "93c598a2",
   "metadata": {
    "id": "93c598a2",
    "slideshow": {
     "slide_type": "slide"
    }
   },
   "source": [
    "## <font color='red'>Automatização de tarefas:</font> com o Python, você pode automatizar cálculos e tarefas repetitivas, economizando tempo e aumentando sua eficiência."
   ]
  },
  {
   "cell_type": "markdown",
   "id": "f765a3d9",
   "metadata": {
    "id": "f765a3d9",
    "slideshow": {
     "slide_type": "slide"
    }
   },
   "source": [
    "## <font color='red'>Visualização de dados:</font> Python possui bibliotecas poderosas, como a Matplotlib, que permitem criar visualizações de dados de alta qualidade, o que pode ser útil em muitas áreas, incluindo negócios, finanças, ciência e engenharia."
   ]
  },
  {
   "cell_type": "markdown",
   "id": "f79660a4",
   "metadata": {
    "id": "f79660a4",
    "slideshow": {
     "slide_type": "slide"
    }
   },
   "source": [
    "## <font color='red'>Aprendizado de máquina:</font> Python é uma das linguagens mais populares para aprendizado de máquina e inteligência artificial, que estão se tornando cada vez mais importantes em muitas áreas, desde finanças até medicina."
   ]
  },
  {
   "cell_type": "markdown",
   "id": "d8f865fa",
   "metadata": {
    "id": "d8f865fa",
    "slideshow": {
     "slide_type": "slide"
    }
   },
   "source": [
    "## <font color='red'>Flexibilidade e versatilidade:</font> Python é uma linguagem versátil que pode ser usada em muitas áreas diferentes, desde análise de dados e ciência até desenvolvimento web e jogos."
   ]
  },
  {
   "cell_type": "markdown",
   "id": "a3933431",
   "metadata": {
    "id": "a3933431",
    "slideshow": {
     "slide_type": "slide"
    }
   },
   "source": [
    "## <font color='red'>Carreira:</font> A demanda por profissionais que possuem habilidades em Python e matemática está em alta, o que pode levar a oportunidades de emprego interessantes e bem remuneradas.\n"
   ]
  },
  {
   "cell_type": "markdown",
   "id": "7f400523",
   "metadata": {
    "id": "7f400523",
    "slideshow": {
     "slide_type": "slide"
    }
   },
   "source": [
    "## <font><p style=\"text-align:center;\">Exemplos Iniciais</p></font>"
   ]
  },
  {
   "cell_type": "markdown",
   "id": "b8f383e1",
   "metadata": {
    "id": "b8f383e1",
    "slideshow": {
     "slide_type": "slide"
    }
   },
   "source": [
    "## <font><p style=\"text-align:center;\">Plotagem de Gráficos</p></font>"
   ]
  },
  {
   "cell_type": "code",
   "execution_count": null,
   "id": "73469107",
   "metadata": {
    "colab": {
     "base_uri": "https://localhost:8080/",
     "height": 431
    },
    "executionInfo": {
     "elapsed": 3568,
     "status": "ok",
     "timestamp": 1683387545828,
     "user": {
      "displayName": "ALLAN DE SOUSA SOARES",
      "userId": "15446158644523637654"
     },
     "user_tz": 180
    },
    "id": "73469107",
    "outputId": "0e9797d4-063c-4861-98b3-29f6e4970595",
    "slideshow": {
     "slide_type": "slide"
    }
   },
   "outputs": [],
   "source": [
    "import seaborn as sns\n",
    "from mpl_toolkits.mplot3d import Axes3D\n",
    "import matplotlib.pyplot as plt\n",
    "\n",
    "iris = sns.load_dataset('iris')\n",
    "\n",
    "fig = plt.figure(figsize=(5, 5))\n",
    "ax = fig.add_subplot(111, projection='3d')\n",
    "ax.scatter(iris['sepal_length'], iris['sepal_width'], iris['petal_length'], c=iris['petal_width'])\n",
    "ax.set_xlabel('Sepal length'), ax.set_ylabel('Sepal width'), ax.set_zlabel('Petal length')\n",
    "plt.show()"
   ]
  },
  {
   "cell_type": "markdown",
   "id": "cf168bd9",
   "metadata": {
    "id": "cf168bd9",
    "slideshow": {
     "slide_type": "slide"
    }
   },
   "source": [
    "Neste exemplo, estamos carregando o conjunto de dados iris do Seaborn e, em seguida, criando um gráfico de pontos em 3D com a função scatter() da biblioteca matplotlib. Os valores para os eixos x, y e z são dados pelos comprimentos da sépala e pétala das amostras de íris, e a cor dos pontos é dada pelo comprimento da pétala."
   ]
  },
  {
   "cell_type": "markdown",
   "id": "c91964fe",
   "metadata": {
    "id": "c91964fe",
    "slideshow": {
     "slide_type": "slide"
    }
   },
   "source": [
    "## <font><p style=\"text-align:center;\">Análise de Grandes Bancos de Dados</p></font>"
   ]
  },
  {
   "cell_type": "markdown",
   "id": "66b02895",
   "metadata": {
    "id": "66b02895",
    "slideshow": {
     "slide_type": "slide"
    }
   },
   "source": [
    "### Python é uma das linguagens mais populares para análise de grandes conjuntos de dados. Uma das razões para isso é a grande quantidade de bibliotecas e ferramentas disponíveis que facilitam o trabalho com dados. Uma dessas ferramentas é o pacote pandas, que permite trabalhar com conjuntos de dados estruturados, como planilhas do Excel ou arquivos CSV.\n",
    "\n",
    "#### *CSV: A sigla CSV significa \"Comma Separated Values\", que em português significa \"Valores Separados por Vírgula\". É um formato de arquivo de texto que é amplamente utilizado para armazenar e trocar dados estruturados entre aplicativos diferentes.*\n",
    "\n"
   ]
  },
  {
   "cell_type": "markdown",
   "id": "1ff4ba9d",
   "metadata": {
    "id": "1ff4ba9d",
    "slideshow": {
     "slide_type": "slide"
    }
   },
   "source": [
    "## <font><p style=\"text-align:center;\">Onde podemos obter dados em formato CSV?</p></font>"
   ]
  },
  {
   "cell_type": "markdown",
   "id": "480a8a47",
   "metadata": {
    "id": "480a8a47",
    "slideshow": {
     "slide_type": "slide"
    }
   },
   "source": [
    "## Seguem alguns links contendo dados em forma CSV (Com dados do Brasil)\n",
    "\n",
    "#### Banco Central do Brasil: https://dadosabertos.bcb.gov.br/dataset?res_format=CSV\n",
    "\n",
    "#### Ministério da Justiça: https://dados.mj.gov.br/dataset?res_format=CSV\n",
    "\n",
    "#### Acesso à Informação: http://www.consultaesic.cgu.gov.br/busca/_layouts/15/downloadpedidos/downloaddados.aspx"
   ]
  },
  {
   "cell_type": "markdown",
   "id": "64d1338d",
   "metadata": {
    "id": "64d1338d",
    "slideshow": {
     "slide_type": "slide"
    }
   },
   "source": [
    "#### Plataforma Kaggle https://www.kaggle.com/datasets\n",
    "\n",
    "Kaggle é uma plataforma online que hospeda competições de ciência de dados, oferece ferramentas de análise de dados e recursos de aprendizado de máquina, além de uma comunidade de cientistas de dados e entusiastas que compartilham seus projetos e conhecimentos.\n",
    "\n",
    "A Kaggle foi fundada em 2010 e adquirida pelo Google em 2017. Na plataforma, os usuários podem encontrar e participar de competições de ciência de dados, criar seus próprios conjuntos de dados, publicar seus notebooks e projetos, além de acessar cursos, tutoriais e fóruns para aprender e discutir sobre ciência de dados.\n"
   ]
  },
  {
   "cell_type": "markdown",
   "id": "420f5549",
   "metadata": {
    "id": "420f5549",
    "slideshow": {
     "slide_type": "slide"
    }
   },
   "source": [
    "## <font><p style=\"text-align:center;\">Exemplo Pessoal de Utilização do Python</p></font>"
   ]
  },
  {
   "cell_type": "markdown",
   "id": "3f7f8492",
   "metadata": {
    "id": "3f7f8492",
    "slideshow": {
     "slide_type": "slide"
    }
   },
   "source": [
    "### <a href=\"calculo_numerico.exe\">Cálculo Numérico</a>\n",
    "\n",
    "### <a href=\"grafico.exe\">Gráfico</a>"
   ]
  },
  {
   "cell_type": "markdown",
   "id": "8ffe9615",
   "metadata": {
    "id": "8ffe9615",
    "slideshow": {
     "slide_type": "slide"
    }
   },
   "source": [
    "# <font color='black'>1. Ambientes de programação</font>"
   ]
  },
  {
   "cell_type": "markdown",
   "id": "9280a51a",
   "metadata": {
    "id": "9280a51a",
    "slideshow": {
     "slide_type": "slide"
    }
   },
   "source": [
    "# <font color='blue'>Jupyer Notebook</font>\n",
    "\n",
    "O Jupyter Notebook é uma ferramenta popular para a análise de dados interativa e a programação científica. Ele permite que os usuários criem e compartilhem documentos que contenham código, visualizações e texto explicativo em um único ambiente. Uma grande vantagem do Jupyter é que ele suporta uma variedade de linguagens de programação, incluindo Python, R, Julia e MATLAB. Além disso, o Jupyter tem uma interface amigável para os usuários executarem e modificarem o código em etapas separadas, além de ser capaz de criar e executar blocos de código em qualquer ordem.\n",
    "\n",
    "**Repositório:** \n",
    "   https://repo.anaconda.com/archive/\n",
    "\n",
    "**Versão Sugerida:** \n",
    "   https://repo.anaconda.com/archive/Anaconda3-2022.10-Windows-x86_64.exe"
   ]
  },
  {
   "cell_type": "markdown",
   "id": "5ff3c97e",
   "metadata": {
    "id": "5ff3c97e",
    "slideshow": {
     "slide_type": "slide"
    }
   },
   "source": [
    "# <font color='blue'>Google Colab</font>\n",
    "\n",
    "O Google Colab é um serviço gratuito oferecido pelo Google que permite aos usuários criar e compartilhar documentos Jupyter Notebook. A grande vantagem do Colab é que ele é executado na nuvem e não requer que o usuário configure o ambiente de desenvolvimento em sua própria máquina. O Colab também tem acesso a recursos computacionais de alto desempenho, como GPUs e TPUs, que podem acelerar o treinamento de modelos de aprendizado de máquina e outras tarefas de computação intensiva.\n",
    "\n",
    "**link:** https://colab.research.google.com/"
   ]
  },
  {
   "cell_type": "markdown",
   "id": "df3df6ec",
   "metadata": {
    "id": "df3df6ec",
    "slideshow": {
     "slide_type": "slide"
    }
   },
   "source": [
    "# <font color='black'>2. Variáveis, tipos de dados e operadores em Python</font>"
   ]
  },
  {
   "cell_type": "markdown",
   "id": "cf19f87c",
   "metadata": {
    "id": "cf19f87c",
    "slideshow": {
     "slide_type": "slide"
    }
   },
   "source": [
    "## <font color='black'>2.1 Variáveis</font>\n",
    "Variáveis são locais na memória que armazenam valores e podem ser referenciadas por um nome ou identificador. Elas são essenciais para a programação e são usadas para armazenar dados temporários ou permanentes que serão utilizados em seu programa."
   ]
  },
  {
   "cell_type": "code",
   "execution_count": null,
   "id": "2f348455",
   "metadata": {
    "id": "2f348455",
    "slideshow": {
     "slide_type": "slide"
    }
   },
   "outputs": [],
   "source": [
    "# Exemplo 1:\n",
    "1+2"
   ]
  },
  {
   "cell_type": "code",
   "execution_count": null,
   "id": "2c0156c5",
   "metadata": {
    "id": "2c0156c5",
    "slideshow": {
     "slide_type": "-"
    }
   },
   "outputs": [],
   "source": [
    "# Exemplo 2: Armazendo variáveis\n",
    "a = 3\n",
    "b = 2\n",
    "soma = a + b"
   ]
  },
  {
   "cell_type": "code",
   "execution_count": null,
   "id": "aeb0cced",
   "metadata": {
    "id": "aeb0cced",
    "slideshow": {
     "slide_type": "-"
    }
   },
   "outputs": [],
   "source": [
    "# Imprimindo uma variável armazenada\n",
    "print(soma)"
   ]
  },
  {
   "cell_type": "code",
   "execution_count": null,
   "id": "a3c86ea4",
   "metadata": {
    "id": "a3c86ea4",
    "slideshow": {
     "slide_type": "slide"
    }
   },
   "outputs": [],
   "source": [
    "# Variável não numérica\n",
    "nome = 'Allan'\n"
   ]
  },
  {
   "cell_type": "code",
   "execution_count": null,
   "id": "d0181d18",
   "metadata": {
    "id": "d0181d18",
    "slideshow": {
     "slide_type": "-"
    }
   },
   "outputs": [],
   "source": [
    "print(nome)\n"
   ]
  },
  {
   "cell_type": "markdown",
   "id": "029187ce",
   "metadata": {
    "id": "029187ce",
    "slideshow": {
     "slide_type": "slide"
    }
   },
   "source": [
    "## <font color='black'>2.2 Tipo de Dados</font>\n",
    "A linguagem Python nos possibilita trabalhar com inúmeros tipos de dados."
   ]
  },
  {
   "cell_type": "markdown",
   "id": "214dc62c",
   "metadata": {
    "id": "214dc62c",
    "slideshow": {
     "slide_type": "slide"
    }
   },
   "source": [
    "**Inteiros (int):** números inteiros sem ponto decimal, como 1, 2, 3, 4, etc.\n",
    "\n",
    "**Números de ponto flutuante (float):** números com ponto decimal, como 3.14, 2.5, etc.\n",
    "\n",
    "**Strings (str):** sequências de caracteres entre aspas simples ou duplas, como 'Olá, mundo!' ou \"Python é incrível\".\n",
    "\n",
    "**Booleanos (bool):** valores booleanos True e False que são usados para avaliar expressões condicionais em programas."
   ]
  },
  {
   "cell_type": "markdown",
   "id": "6669708d",
   "metadata": {
    "id": "6669708d",
    "slideshow": {
     "slide_type": "slide"
    }
   },
   "source": [
    "\n",
    "**Listas (list):** coleções ordenadas de valores que podem ser de tipos diferentes, como [1, 2, 3, 4] ou [\"maçã\", \"banana\", \"laranja\"].\n",
    "\n",
    "**Tuplas (tuple):** coleções ordenadas de valores imutáveis, como (1, 2, 3) ou (\"segunda-feira\", \"terça-feira\", \"quarta-feira\").\n",
    "\n",
    "**Dicionários (dict):** coleções não ordenadas de valores em pares de chave-valor, como {\"nome\": \"João\", \"idade\": 30}.\n",
    "\n",
    "**Conjuntos (set):** coleções desordenadas e únicas de valores, como {1, 2, 3} ou {\"maçã\", \"banana\", \"laranja\"}."
   ]
  },
  {
   "cell_type": "code",
   "execution_count": null,
   "id": "fd2d181b",
   "metadata": {
    "id": "fd2d181b",
    "slideshow": {
     "slide_type": "slide"
    }
   },
   "outputs": [],
   "source": [
    "# Exemplos\n",
    "n = 10                                                 # int\n",
    "x = 3.4                                                # float\n",
    "sigla = 'IFBA'                                         # string\n",
    "aptidao = True                                         # bool\n",
    "lista_compras = ['banana', 'laranja', 'maçã']          # list\n",
    "coordenadas_IFBA = (-14.8418555,-40.8797098)           # tuple\n",
    "notas = {'Matemática':9.8,'Física':9.0,'Química':9.2}  # dict\n",
    "conjunto = {1,2,3,6,10}                                # set"
   ]
  },
  {
   "cell_type": "code",
   "execution_count": null,
   "id": "a4d5701d",
   "metadata": {
    "id": "a4d5701d",
    "slideshow": {
     "slide_type": "-"
    }
   },
   "outputs": [],
   "source": [
    "# imprimindo variáveis\n",
    "print(n)\n",
    "print(x)\n",
    "print(sigla)\n",
    "print(aptidao)\n",
    "print(lista_compras)\n",
    "print(coordenadas_IFBA)\n",
    "print(notas)\n",
    "print(conjunto)"
   ]
  },
  {
   "cell_type": "code",
   "execution_count": null,
   "id": "808f448f",
   "metadata": {
    "id": "808f448f",
    "slideshow": {
     "slide_type": "slide"
    }
   },
   "outputs": [],
   "source": [
    "# Consultando o tipo de uma variável\n",
    "print(n,type(n))\n",
    "print(x,type(x))\n",
    "print(sigla,type(sigla))\n",
    "print(aptidao,type(aptidao))\n",
    "print(lista_compras,type(lista_compras))\n",
    "print(coordenadas_IFBA,type(coordenadas_IFBA))\n",
    "print(notas,type(notas))\n",
    "print(conjunto,type(conjunto))"
   ]
  },
  {
   "cell_type": "markdown",
   "id": "acdf918c",
   "metadata": {
    "id": "acdf918c",
    "slideshow": {
     "slide_type": "slide"
    }
   },
   "source": [
    "Listas e outros objetos podem ter seus elementos internos acessados. Tal funcinalidade será muito importante mais a frente. Vejamos alguns exemplos:"
   ]
  },
  {
   "cell_type": "code",
   "execution_count": null,
   "id": "3663e39a",
   "metadata": {
    "id": "3663e39a",
    "slideshow": {
     "slide_type": "slide"
    }
   },
   "outputs": [],
   "source": [
    "alunos = ['Caio', 'Larissa', 'Lucas', 'José']\n",
    "vetor = (-1,2,4,7,9,-2)\n",
    "altura = {'João':1.66,'Maria':9.0,'Pedro':9.2} "
   ]
  },
  {
   "cell_type": "code",
   "execution_count": null,
   "id": "847de4bb",
   "metadata": {
    "id": "847de4bb",
    "slideshow": {
     "slide_type": "-"
    }
   },
   "outputs": [],
   "source": [
    "print(alunos[0])\n",
    "print(vetor[3])\n",
    "print(altura['Pedro'])"
   ]
  },
  {
   "cell_type": "markdown",
   "id": "b4d73f26",
   "metadata": {
    "id": "b4d73f26",
    "slideshow": {
     "slide_type": "slide"
    }
   },
   "source": [
    "## <font color='black'>2.3 Operadores em Pyhon</font>\n",
    "\n",
    "Operadores são símbolos especiais usados em programação para realizar operações aritméticas, lógicas e relacionais em valores e variáveis. Em Python, há vários tipos de operadores que podem ser usados para manipular valores e realizar cálculos. Entre os mais comuns, temos os **operadores aritméticos**, **operadores relacionais**, **operadores lógicos** e **operadores lógicos**."
   ]
  },
  {
   "cell_type": "markdown",
   "id": "c202c377",
   "metadata": {
    "id": "c202c377",
    "slideshow": {
     "slide_type": "slide"
    }
   },
   "source": [
    "Alguns exemplos de **operadores aritméticos** em Python incluem:\n",
    "\n",
    "$+$ (**adição**): adiciona dois valores juntos.\n",
    "\n",
    "$-$ (**subtração**): subtrai um valor do outro.\n",
    "\n",
    "$*$ (**multiplicação**): multiplica dois valores juntos.\n",
    "\n",
    "$/$ (**divisão**): divide um valor pelo outro.\n",
    "\n",
    "$**$ (**potência**): retorna a potência de um valor.\n",
    "\n",
    "$\\%$ (**módulo**): retorna o resto da divisão entre dois valores."
   ]
  },
  {
   "cell_type": "code",
   "execution_count": null,
   "id": "38c7ace2",
   "metadata": {
    "id": "38c7ace2",
    "slideshow": {
     "slide_type": "slide"
    }
   },
   "outputs": [],
   "source": [
    "# Exemplos\n",
    "a,b,c,d = 12,3,7,-4"
   ]
  },
  {
   "cell_type": "code",
   "execution_count": null,
   "id": "8d7b1593",
   "metadata": {
    "id": "8d7b1593",
    "slideshow": {
     "slide_type": "slide"
    }
   },
   "outputs": [],
   "source": [
    "# Adição (a,b,c,d = 12,3,7,-4)\n",
    "soma1 = a + b\n",
    "soma2 = d + a\n",
    "print(soma1)\n",
    "print(soma2)"
   ]
  },
  {
   "cell_type": "code",
   "execution_count": null,
   "id": "827e7333",
   "metadata": {
    "id": "827e7333",
    "slideshow": {
     "slide_type": "slide"
    }
   },
   "outputs": [],
   "source": [
    "# Subtração (a,b,c,d = 12,3,7,-4)\n",
    "sub1 = a - b\n",
    "sub2 = c - d\n",
    "print(sub1)\n",
    "print(sub2)"
   ]
  },
  {
   "cell_type": "code",
   "execution_count": null,
   "id": "78e9f2c1",
   "metadata": {
    "id": "78e9f2c1",
    "slideshow": {
     "slide_type": "slide"
    }
   },
   "outputs": [],
   "source": [
    "# Multiplicação (a,b,c,d = 12,3,7,-4)\n",
    "mult1 = a*b\n",
    "mult2 = d*d\n",
    "print(mult1)\n",
    "print(mult2)"
   ]
  },
  {
   "cell_type": "code",
   "execution_count": null,
   "id": "abe3d586",
   "metadata": {
    "id": "abe3d586",
    "slideshow": {
     "slide_type": "slide"
    }
   },
   "outputs": [],
   "source": [
    "# Divisão padrão (a,b,c,d = 12,3,7,-4)\n",
    "div1 = a/b\n",
    "div2 = a/c\n",
    "print(div1)\n",
    "print(div2)"
   ]
  },
  {
   "cell_type": "code",
   "execution_count": null,
   "id": "d9add440",
   "metadata": {
    "id": "d9add440",
    "slideshow": {
     "slide_type": "-"
    }
   },
   "outputs": [],
   "source": [
    "# Consultando tipo de variável\n",
    "print(type(div1))\n",
    "print(type(div2))"
   ]
  },
  {
   "cell_type": "code",
   "execution_count": null,
   "id": "f3c4484f",
   "metadata": {
    "id": "f3c4484f",
    "slideshow": {
     "slide_type": "slide"
    }
   },
   "outputs": [],
   "source": [
    "# Divisão Padrão (a,b,c,d = 12,3,7,-4)\n",
    "div3 = a//b\n",
    "div4 = a//c\n",
    "print(div3)\n",
    "print(div4)"
   ]
  },
  {
   "cell_type": "code",
   "execution_count": null,
   "id": "4e461bd5",
   "metadata": {
    "id": "4e461bd5",
    "slideshow": {
     "slide_type": "-"
    }
   },
   "outputs": [],
   "source": [
    "# Consultando tipo de variável\n",
    "print(type(div3))\n",
    "print(type(div4))"
   ]
  },
  {
   "cell_type": "code",
   "execution_count": null,
   "id": "45e4156f",
   "metadata": {
    "id": "45e4156f",
    "slideshow": {
     "slide_type": "slide"
    }
   },
   "outputs": [],
   "source": [
    "# Módulo ou resto da divisão (a,b,c,d = 12,3,7,-4)\n",
    "resto1 = a%b\n",
    "resto2 = a%c\n",
    "print(resto1)\n",
    "print(resto2)"
   ]
  },
  {
   "cell_type": "markdown",
   "id": "29c12fb7",
   "metadata": {
    "id": "29c12fb7",
    "slideshow": {
     "slide_type": "slide"
    }
   },
   "source": [
    "Alguns exemplos de **operadores relacionais** em Python incluem:\n",
    "\n",
    "$==$ (**igual a**): verifica se dois valores/variáveis são iguais.\n",
    "\n",
    "$!=$ (**diferente de**): verifica se dois valores/variáveis são diferentes.\n",
    "\n",
    "$<$ (**menor que**): verifica se um valor é menor que outro. (variação $<=$ **menor ou igual a**)\n",
    "\n",
    "$>$ (**maior que**): verifica se um valor é maior que outro. (variação $>=$ **maior ou igual a**)"
   ]
  },
  {
   "cell_type": "code",
   "execution_count": null,
   "id": "cb2b8c0a",
   "metadata": {
    "id": "cb2b8c0a",
    "slideshow": {
     "slide_type": "slide"
    }
   },
   "outputs": [],
   "source": [
    "# Exemplos\n",
    "print(2 == 1+1)\n",
    "print('Allan' != 'allan')\n",
    "print(4.1 < 4)\n",
    "print(5 < 5)\n",
    "print(5 <= 5)\n",
    "print({1,2,3} == {1,3,2})\n",
    "print((1,2,3) == (1,3,2))"
   ]
  },
  {
   "cell_type": "markdown",
   "id": "b5b49def",
   "metadata": {
    "id": "b5b49def",
    "slideshow": {
     "slide_type": "slide"
    }
   },
   "source": [
    "Alguns exemplos de **operadores lógicos** em Python incluem:\n",
    "\n",
    "**and** (**e**): retorna True se ambos os valores são verdadeiros.\n",
    "\n",
    "**or** (**ou**): retorna True se pelo menos um dos valores é verdadeiro.\n",
    "\n",
    "**not** (**não**): inverte o valor booleano de uma expressão."
   ]
  },
  {
   "cell_type": "markdown",
   "id": "c9fa6ee9",
   "metadata": {
    "id": "c9fa6ee9",
    "slideshow": {
     "slide_type": "slide"
    }
   },
   "source": [
    "Seguem as tabelas lógicas da conjunção negação **not**, **and** e disjunção **or**:\n",
    "$$\n",
    "\\begin{array}{|c|c|c|c|c|}\n",
    "\\hline\n",
    "p\t        & \t not \\,\\, q \\\\\n",
    "\\hline\n",
    " True  \t\t& \t False   \t\\\\\n",
    " False  \t& \t True  \t\\\\\n",
    "\\hline\n",
    "\\end{array} \\,\\,\\,\n",
    "\\begin{array}{|c|c|c|c|c|}\n",
    "\\hline\n",
    "p\t        & \t q   \t    & p \\,\\, and \\,\\, q   \\\\\n",
    "\\hline\n",
    " True  \t\t& \t True   \t& True   \t\\\\\n",
    " True \t\t& \t False   \t& False\t    \\\\\n",
    " False  \t& \t True   \t& False  \t\\\\\n",
    " False  \t& \t False   \t& False    \t\\\\\n",
    "\\hline\n",
    "\\end{array} \\,\\,\\,\n",
    "\\begin{array}{|c|c|c|c|c|}\n",
    "\\hline\n",
    "p\t        & \t q   \t    & p \\,\\, or \\,\\, q   \\\\\n",
    "\\hline\n",
    " True  \t\t& \t True   \t& True   \t\\\\\n",
    " True \t\t& \t False   \t& True\t    \\\\\n",
    " False  \t& \t True   \t& True  \t\\\\\n",
    " False  \t& \t False   \t& False    \t\\\\\n",
    "\\hline\n",
    "\\end{array}\n",
    "$$"
   ]
  },
  {
   "cell_type": "code",
   "execution_count": 234,
   "id": "ded6f747",
   "metadata": {
    "id": "ded6f747",
    "slideshow": {
     "slide_type": "-"
    }
   },
   "outputs": [
    {
     "name": "stdout",
     "output_type": "stream",
     "text": [
      "False\n",
      "True\n",
      "True\n"
     ]
    }
   ],
   "source": [
    "print((2 == 1+2) and ({1,2,3} == {1,3,2}))   \n",
    "print((2 == 1+2) or ({1,2,3} == {1,3,2}))\n",
    "print(not(2 == 1+2))"
   ]
  },
  {
   "cell_type": "markdown",
   "id": "0bc9e81d",
   "metadata": {
    "id": "0bc9e81d",
    "slideshow": {
     "slide_type": "slide"
    }
   },
   "source": [
    "## <font color='black'>3. Estruturas de controle de fluxo (if/else, for, while)</font>\n",
    "As estruturas de controle de fluxo **if**, **for** e **while** são fundamentais em Python e em outras linguagens de programação, e são usadas para controlar a execução de um programa com base em condições específicas."
   ]
  },
  {
   "cell_type": "markdown",
   "id": "2bf32379",
   "metadata": {
    "id": "2bf32379",
    "slideshow": {
     "slide_type": "slide"
    }
   },
   "source": [
    "## <font color='black'>3.1 Estrutura Condicional if/if-else/if-elif-else</font>\n",
    "A estrutura **if** é usada para avaliar uma expressão condicional e, se a condição for verdadeira, executar um bloco de código específico."
   ]
  },
  {
   "cell_type": "code",
   "execution_count": null,
   "id": "1e1cc815",
   "metadata": {
    "id": "1e1cc815",
    "slideshow": {
     "slide_type": "slide"
    }
   },
   "outputs": [],
   "source": [
    "# Imprimindo quadrado uma entrada ímpar\n",
    "x = 3\n",
    "if x%2 == 1:\n",
    "    print(x*2)"
   ]
  },
  {
   "cell_type": "code",
   "execution_count": null,
   "id": "5a6a7c03",
   "metadata": {
    "id": "5a6a7c03",
    "slideshow": {
     "slide_type": "slide"
    }
   },
   "outputs": [],
   "source": [
    "# Classificando um número em par ou ímpar\n",
    "x = 5\n",
    "if x%2 != 0:\n",
    "    print(f'{x} é ímpar')\n",
    "else:\n",
    "    print(f'{x} é par')"
   ]
  },
  {
   "cell_type": "code",
   "execution_count": null,
   "id": "db2a4513",
   "metadata": {
    "id": "db2a4513",
    "slideshow": {
     "slide_type": "slide"
    }
   },
   "outputs": [],
   "source": [
    "# Obrigatoriedade da Votação\n",
    "idade = 38\n",
    "if idade < 16:\n",
    "    print('Voto não permitido.')\n",
    "elif (idade < 18):\n",
    "    print('Voto opcional.')\n",
    "elif (idade <= 70):\n",
    "    print('Voto obrigatório.')\n",
    "else:\n",
    "    print('Voto opcional.')"
   ]
  },
  {
   "cell_type": "markdown",
   "id": "22f9ba31",
   "metadata": {
    "id": "22f9ba31",
    "slideshow": {
     "slide_type": "slide"
    }
   },
   "source": [
    "## <font color='black'>3.2 Estrutura de Repetição for </font>\n",
    "A estrutura **for** é usada para percorrer uma sequência de valores e executar um bloco de código para cada valor na sequência. "
   ]
  },
  {
   "cell_type": "code",
   "execution_count": null,
   "id": "0716a1e5",
   "metadata": {
    "id": "0716a1e5",
    "slideshow": {
     "slide_type": "slide"
    }
   },
   "outputs": [],
   "source": [
    "# Imprimindo os dez primeiros inteiros positivos\n",
    "for i in range(1, 11):     #(inicial,final-1)\n",
    "    print(i)"
   ]
  },
  {
   "cell_type": "code",
   "execution_count": null,
   "id": "b0bc2624",
   "metadata": {
    "id": "b0bc2624",
    "slideshow": {
     "slide_type": "slide"
    }
   },
   "outputs": [],
   "source": [
    "# Imprimindo os dez primeiros inteiros positivos pares\n",
    "for i in range(2,11,2):      #(inicial,final-1,salto)\n",
    "    print(i)"
   ]
  },
  {
   "cell_type": "code",
   "execution_count": null,
   "id": "37afc6ea",
   "metadata": {
    "id": "37afc6ea",
    "slideshow": {
     "slide_type": "slide"
    }
   },
   "outputs": [],
   "source": [
    "# Imprimindo o quadrado dos inteiros pares 2, 4, 6, 8, 10\n",
    "for i in range(2,11,2):\n",
    "    q_i = i**2\n",
    "    print(q_i)"
   ]
  },
  {
   "cell_type": "code",
   "execution_count": null,
   "id": "e8d50a53",
   "metadata": {
    "id": "e8d50a53",
    "slideshow": {
     "slide_type": "slide"
    }
   },
   "outputs": [],
   "source": [
    "# Aprimorando...\n",
    "for i in range(2,11,2):\n",
    "    q_i = i**2\n",
    "    print(f'O quadrado de {i} é {q_i}.')"
   ]
  },
  {
   "cell_type": "markdown",
   "id": "324bd0e7",
   "metadata": {
    "id": "324bd0e7",
    "slideshow": {
     "slide_type": "slide"
    }
   },
   "source": [
    "## <font color='black'>3.3 Estrutura de Repetição while </font>\n",
    "A estrutura **while** é usada para executar um bloco de código enquanto uma condição específica for verdadeira."
   ]
  },
  {
   "cell_type": "code",
   "execution_count": null,
   "id": "de7dc8bc",
   "metadata": {
    "id": "de7dc8bc",
    "slideshow": {
     "slide_type": "slide"
    }
   },
   "outputs": [],
   "source": [
    "# Imprimindo todos os inteiros i e i**2 tais que i**2 < 545\n",
    "i = 1\n",
    "while i**2 < 288:\n",
    "    print(f'i={i}, i^2 = {i**2}')\n",
    "    i = i + 1\n"
   ]
  },
  {
   "cell_type": "markdown",
   "id": "3951b52d",
   "metadata": {
    "id": "3951b52d",
    "slideshow": {
     "slide_type": "slide"
    }
   },
   "source": [
    "# <font color='black'>4. Trabalhando Com Funções </font>"
   ]
  },
  {
   "cell_type": "markdown",
   "id": "8222214e",
   "metadata": {
    "id": "8222214e",
    "slideshow": {
     "slide_type": "slide"
    }
   },
   "source": [
    "Em Python, podemos definir uma função usando a palavra-chave def. Uma função é um bloco de código que é executado quando é chamado, e pode receber argumentos e retornar valores. A estrutura de uma função usando o a palavra-chave def é:\n",
    "\n",
    "**def nome_da_funcao(argumentos):**\n",
    "\n",
    "$\\,\\,\\,\\,\\,$**# bloco de código**\n",
    "    \n",
    "$\\,\\,\\,\\,\\,$**return valor_de_retorno**\n"
   ]
  },
  {
   "cell_type": "code",
   "execution_count": null,
   "id": "62f7b638",
   "metadata": {
    "id": "62f7b638",
    "slideshow": {
     "slide_type": "slide"
    }
   },
   "outputs": [],
   "source": [
    "# Exemplo 1\n",
    "def soma(a,b):\n",
    "    return a+b"
   ]
  },
  {
   "cell_type": "code",
   "execution_count": null,
   "id": "cb40aa36",
   "metadata": {
    "id": "cb40aa36",
    "slideshow": {
     "slide_type": "-"
    }
   },
   "outputs": [],
   "source": [
    "print(soma(3,2))"
   ]
  },
  {
   "cell_type": "code",
   "execution_count": 240,
   "id": "08f14f91",
   "metadata": {
    "id": "08f14f91",
    "slideshow": {
     "slide_type": "slide"
    }
   },
   "outputs": [],
   "source": [
    "# Exemplo 2: Montante a partir do capital C, da taxa i e da duração t em um investimento\n",
    "def Montante(C,i,t):\n",
    "    M = C*(1+i)**t\n",
    "    return print(M)"
   ]
  },
  {
   "cell_type": "code",
   "execution_count": 241,
   "id": "b933a0ad",
   "metadata": {
    "id": "b933a0ad",
    "slideshow": {
     "slide_type": "-"
    }
   },
   "outputs": [
    {
     "name": "stdout",
     "output_type": "stream",
     "text": [
      "177.1561000000001\n"
     ]
    }
   ],
   "source": [
    "# Montante de um capital de R$ 100,00 aplicado a 10% ao mês durante 6 meses\n",
    "Montante(100,0.1,6)"
   ]
  },
  {
   "cell_type": "code",
   "execution_count": 242,
   "id": "ea9d6ca2",
   "metadata": {
    "id": "ea9d6ca2",
    "slideshow": {
     "slide_type": "-"
    }
   },
   "outputs": [
    {
     "name": "stdout",
     "output_type": "stream",
     "text": [
      "110.00000000000001\n",
      "121.00000000000001\n",
      "133.10000000000005\n",
      "146.41000000000005\n",
      "161.05100000000004\n",
      "177.1561000000001\n"
     ]
    }
   ],
   "source": [
    "# Evolução\n",
    "for k in range(1,7):\n",
    "    Montante(100,0.1,k)"
   ]
  },
  {
   "cell_type": "code",
   "execution_count": 243,
   "id": "4f9ccd33",
   "metadata": {
    "id": "4f9ccd33",
    "slideshow": {
     "slide_type": "slide"
    }
   },
   "outputs": [],
   "source": [
    "# Exemplo 2: Arredondando\n",
    "def Montante(C,i,t):\n",
    "    M = C*(1+i)**t\n",
    "    return print(round(M,2))\n"
   ]
  },
  {
   "cell_type": "code",
   "execution_count": 244,
   "id": "9947e530",
   "metadata": {
    "id": "9947e530",
    "slideshow": {
     "slide_type": "-"
    }
   },
   "outputs": [
    {
     "name": "stdout",
     "output_type": "stream",
     "text": [
      "177.16\n"
     ]
    }
   ],
   "source": [
    "Montante(100,0.1,6)"
   ]
  },
  {
   "cell_type": "code",
   "execution_count": 245,
   "id": "64e07236",
   "metadata": {
    "id": "64e07236",
    "slideshow": {
     "slide_type": "-"
    }
   },
   "outputs": [
    {
     "name": "stdout",
     "output_type": "stream",
     "text": [
      "110.0\n",
      "121.0\n",
      "133.1\n",
      "146.41\n",
      "161.05\n",
      "177.16\n"
     ]
    }
   ],
   "source": [
    "# Evolução\n",
    "for k in range(1,7):\n",
    "    Montante(100,0.1,k)"
   ]
  },
  {
   "cell_type": "markdown",
   "id": "ed0c4004",
   "metadata": {
    "id": "ed0c4004",
    "slideshow": {
     "slide_type": "slide"
    }
   },
   "source": [
    "## <font color='black'>4.1 Funções Não-Nativas </font>\n",
    "Funções não nativas são aquelas que precisam da importação de um módulo ou biblioteca para funcionar."
   ]
  },
  {
   "cell_type": "markdown",
   "id": "86870aac",
   "metadata": {
    "id": "86870aac",
    "slideshow": {
     "slide_type": "slide"
    }
   },
   "source": [
    "Os módulos mais usados em matemática são:\n",
    "\n",
    "**NumPy:** é uma biblioteca para a linguagem Python que fornece suporte para cálculos matemáticos complexos e operações com matrizes e vetores. É frequentemente usado em áreas como ciência de dados, aprendizado de máquina e processamento de sinais.\n",
    "\n",
    "**Matplotlib:** é uma biblioteca para a linguagem Python que fornece suporte para visualização de dados em 2D e 3D. É frequentemente usado para criar gráficos, histogramas, diagramas de dispersão e outras visualizações de dados.\n",
    "\n",
    "**SciPy:** é uma biblioteca para a linguagem Python que fornece suporte para cálculos científicos e matemáticos avançados, incluindo otimização, álgebra linear, integração e solução de equações diferenciais.\n",
    "\n",
    "+"
   ]
  },
  {
   "cell_type": "markdown",
   "id": "74676e19",
   "metadata": {
    "id": "74676e19",
    "slideshow": {
     "slide_type": "slide"
    }
   },
   "source": [
    "**SymPy:** é uma biblioteca para a linguagem Python que fornece suporte para matemática simbólica, incluindo cálculo diferencial e integral, álgebra linear e equações diferenciais. É frequentemente usado em áreas como física, engenharia e matemática aplicada.\n",
    "\n",
    "**Pandas:** é uma biblioteca para a linguagem Python que fornece suporte para análise de dados e manipulação de dados em tabelas e séries temporais. É frequentemente usado em áreas como ciência de dados, finanças e análise de mercado.\n"
   ]
  },
  {
   "cell_type": "markdown",
   "id": "b6ad014d",
   "metadata": {
    "id": "b6ad014d",
    "slideshow": {
     "slide_type": "slide"
    }
   },
   "source": [
    "### Função Usando o Módulo NumPy"
   ]
  },
  {
   "cell_type": "code",
   "execution_count": 246,
   "id": "762624ba",
   "metadata": {
    "id": "762624ba",
    "slideshow": {
     "slide_type": "slide"
    }
   },
   "outputs": [],
   "source": [
    "import numpy as np"
   ]
  },
  {
   "cell_type": "code",
   "execution_count": 247,
   "id": "31d0b1ac",
   "metadata": {
    "id": "31d0b1ac",
    "slideshow": {
     "slide_type": "-"
    }
   },
   "outputs": [],
   "source": [
    "def f(x):\n",
    "    return x**2 + np.sin(x)"
   ]
  },
  {
   "cell_type": "code",
   "execution_count": 248,
   "id": "96c1cacd",
   "metadata": {
    "id": "96c1cacd",
    "slideshow": {
     "slide_type": "-"
    }
   },
   "outputs": [
    {
     "name": "stdout",
     "output_type": "stream",
     "text": [
      "0.0\n"
     ]
    }
   ],
   "source": [
    "print(f(0))"
   ]
  },
  {
   "cell_type": "code",
   "execution_count": 249,
   "id": "b03c30a7",
   "metadata": {
    "id": "b03c30a7",
    "slideshow": {
     "slide_type": "-"
    }
   },
   "outputs": [
    {
     "name": "stdout",
     "output_type": "stream",
     "text": [
      "3.4674011002723395\n"
     ]
    }
   ],
   "source": [
    "print(f(np.pi/2))"
   ]
  },
  {
   "cell_type": "code",
   "execution_count": 250,
   "id": "d82c8812",
   "metadata": {
    "id": "d82c8812",
    "slideshow": {
     "slide_type": "slide"
    }
   },
   "outputs": [],
   "source": [
    "def g(x):\n",
    "    return np.exp(x) + 1 "
   ]
  },
  {
   "cell_type": "code",
   "execution_count": 251,
   "id": "5d19215f",
   "metadata": {
    "id": "5d19215f",
    "slideshow": {
     "slide_type": "-"
    }
   },
   "outputs": [
    {
     "name": "stdout",
     "output_type": "stream",
     "text": [
      "2.0\n"
     ]
    }
   ],
   "source": [
    "print(g(0))"
   ]
  },
  {
   "cell_type": "code",
   "execution_count": null,
   "id": "3c18effe",
   "metadata": {
    "id": "3c18effe",
    "slideshow": {
     "slide_type": "slide"
    }
   },
   "outputs": [],
   "source": [
    "# Compondo funções f(x) = x**2 + np.sin(x) e g(x) = np.exp(x) + 1 \n",
    "\n",
    "def h(x):\n",
    "    return f(x) + g(x)\n",
    "\n",
    "def s(x):\n",
    "    return f(g(x))"
   ]
  },
  {
   "cell_type": "code",
   "execution_count": null,
   "id": "fe6e6593",
   "metadata": {
    "id": "fe6e6593",
    "slideshow": {
     "slide_type": "-"
    }
   },
   "outputs": [],
   "source": [
    "print(h(0))"
   ]
  },
  {
   "cell_type": "code",
   "execution_count": null,
   "id": "2e7a5ed5",
   "metadata": {
    "id": "2e7a5ed5",
    "slideshow": {
     "slide_type": "-"
    }
   },
   "outputs": [],
   "source": [
    "print(s(2))"
   ]
  },
  {
   "cell_type": "markdown",
   "id": "5a17707f",
   "metadata": {
    "id": "5a17707f",
    "slideshow": {
     "slide_type": "slide"
    }
   },
   "source": [
    "O cálculo direto de valores não requer a utilização da palavra-chave **def**. Por exemplo, calcular o valor de **sen($\\pi$)** basta escrevermos **sin(np.pi)**. Vejamos alguns exemplos:"
   ]
  },
  {
   "cell_type": "code",
   "execution_count": null,
   "id": "a35911b7",
   "metadata": {
    "id": "a35911b7",
    "slideshow": {
     "slide_type": "slide"
    }
   },
   "outputs": [],
   "source": [
    "import numpy\n",
    "print(np.sin(np.pi))\n",
    "print(np.cos(np.pi))\n",
    "print(np.tan(np.pi))\n",
    "print(np.exp(1))"
   ]
  },
  {
   "cell_type": "markdown",
   "id": "1a673e5e",
   "metadata": {
    "id": "1a673e5e",
    "slideshow": {
     "slide_type": "slide"
    }
   },
   "source": [
    "Caso esteja trabalhando em um programa que só utilize funções específicas pode-se optar por importar somente as funções utilizadas livrando-se assim do prefixo **np**. Vejamos alguns exemplos:"
   ]
  },
  {
   "cell_type": "code",
   "execution_count": null,
   "id": "9da54e33",
   "metadata": {
    "id": "9da54e33",
    "slideshow": {
     "slide_type": "slide"
    }
   },
   "outputs": [],
   "source": [
    "from numpy import sin, cos, tan, pi, exp\n",
    "print(sin(pi))\n",
    "print(cos(pi))\n",
    "print(tan(pi))\n",
    "print(exp(1))"
   ]
  },
  {
   "cell_type": "markdown",
   "id": "db3ae161",
   "metadata": {
    "id": "db3ae161",
    "slideshow": {
     "slide_type": "slide"
    }
   },
   "source": [
    "Por outro lado, se estiver trabalhando com diversas funções em um programa mais geral, pode-se optar por importar todas de uma vez."
   ]
  },
  {
   "cell_type": "code",
   "execution_count": null,
   "id": "9bbd92f1",
   "metadata": {
    "id": "9bbd92f1",
    "slideshow": {
     "slide_type": "slide"
    }
   },
   "outputs": [],
   "source": [
    "from numpy import*\n",
    "print(sin(pi))\n",
    "print(cos(pi))\n",
    "print(tan(pi))\n",
    "print(exp(1))"
   ]
  },
  {
   "cell_type": "markdown",
   "id": "9eb9defe",
   "metadata": {
    "id": "9eb9defe",
    "slideshow": {
     "slide_type": "slide"
    }
   },
   "source": [
    "### Qual das formas é a melhor?"
   ]
  },
  {
   "cell_type": "markdown",
   "id": "dcd78788",
   "metadata": {
    "id": "dcd78788",
    "slideshow": {
     "slide_type": "slide"
    }
   },
   "source": [
    "A primeira forma é a mais comum e recomendada, pois torna o código mais legível e evita possíveis conflitos de nome. A segunda forma é útil quando se usa apenas algumas funções específicas do módulo numpy. A terceira forma é geralmente desencorajada devido aos possíveis conflitos de nome e dificuldade de leitura do código."
   ]
  },
  {
   "cell_type": "markdown",
   "id": "12874591",
   "metadata": {
    "id": "12874591",
    "slideshow": {
     "slide_type": "slide"
    }
   },
   "source": [
    "Para mais informações sobre o modulo numpy acesse:\n",
    "https://numpy.org/doc/stable/reference/routines.math.html"
   ]
  },
  {
   "cell_type": "markdown",
   "id": "dc80e53f",
   "metadata": {
    "id": "dc80e53f",
    "slideshow": {
     "slide_type": "slide"
    }
   },
   "source": [
    "## <font color='black'>4.2 Gráficos de Funções </font>"
   ]
  },
  {
   "cell_type": "markdown",
   "id": "f50465da",
   "metadata": {
    "id": "f50465da",
    "slideshow": {
     "slide_type": "slide"
    }
   },
   "source": [
    "### Gráfico Ponto-a-Ponto 2d Usando o Módulo matplotlib"
   ]
  },
  {
   "cell_type": "code",
   "execution_count": null,
   "id": "a5f5d0ab",
   "metadata": {
    "id": "a5f5d0ab",
    "slideshow": {
     "slide_type": "slide"
    }
   },
   "outputs": [],
   "source": [
    "import matplotlib.pyplot as plt"
   ]
  },
  {
   "cell_type": "code",
   "execution_count": null,
   "id": "9c364734",
   "metadata": {
    "id": "9c364734",
    "slideshow": {
     "slide_type": "slide"
    }
   },
   "outputs": [],
   "source": [
    "# Dados\n",
    "x = [1,2,3,4,5]\n",
    "y = [1,4,9,16,25] #(1,1), (2,4), (3,9),..."
   ]
  },
  {
   "cell_type": "code",
   "execution_count": null,
   "id": "e7e593fd",
   "metadata": {
    "id": "e7e593fd",
    "slideshow": {
     "slide_type": "slide"
    }
   },
   "outputs": [],
   "source": [
    "# Configurações do ambiente gráfico\n",
    "\n",
    "# Criar figura com tamanho personalizado\n",
    "plt.figure(figsize=(10, 10))\n",
    "\n",
    "# Criar gráfico de pontos\n",
    "plt.plot(x, y, '.', markersize=8, color='blue') # Mude para *,d,-,+,x\n",
    "\n",
    "# Rótulos\n",
    "plt.title('Título'), plt.xlabel('Eixo x'), plt.ylabel('Eixo y')\n",
    "\n",
    "# Exibição do gráfico - funciona como a função print\n",
    "plt.show()"
   ]
  },
  {
   "cell_type": "markdown",
   "id": "ef095fb3",
   "metadata": {
    "id": "ef095fb3",
    "slideshow": {
     "slide_type": "slide"
    }
   },
   "source": [
    "### Gráfico 2d de uma função na variável x"
   ]
  },
  {
   "cell_type": "code",
   "execution_count": null,
   "id": "bdee1e9e",
   "metadata": {
    "id": "bdee1e9e",
    "slideshow": {
     "slide_type": "slide"
    }
   },
   "outputs": [],
   "source": [
    "import matplotlib.pyplot as plt\n",
    "from pylab import arange\n",
    "\n",
    "def f(x):\n",
    "    return x**2\n",
    "\n",
    "x = arange(0,1,0.01) #intevalor (0,1) com salto delta=0.1\n",
    "y = f(x)"
   ]
  },
  {
   "cell_type": "code",
   "execution_count": null,
   "id": "37ff7d62",
   "metadata": {
    "id": "37ff7d62",
    "slideshow": {
     "slide_type": "slide"
    }
   },
   "outputs": [],
   "source": [
    "# Criar figura com tamanho personalizado\n",
    "plt.figure(figsize=(3, 3))\n",
    "\n",
    "# Criar gráfico de pontos\n",
    "plt.plot(x, y, '-', markersize=8, color='blue') # Mude para *,d,-,+,x\n",
    "\n",
    "# Rótulos\n",
    "plt.title('Altitude de um móvel'), plt.xlabel('Tempo(s)'), plt.ylabel('Altura(m)')\n",
    "\n",
    "# Exibição do gráfico\n",
    "plt.show()"
   ]
  },
  {
   "cell_type": "markdown",
   "id": "0c786ab5",
   "metadata": {
    "id": "0c786ab5",
    "slideshow": {
     "slide_type": "slide"
    }
   },
   "source": [
    "### Vejamos uma forma de trabalhar com a qual me identifico, a construção de programas genéricos/gerais:\n"
   ]
  },
  {
   "cell_type": "code",
   "execution_count": 1,
   "id": "95bd5bb5",
   "metadata": {
    "id": "95bd5bb5",
    "slideshow": {
     "slide_type": "slide"
    }
   },
   "outputs": [],
   "source": [
    "import matplotlib.pyplot as plt\n",
    "from pylab import arange\n",
    "import numpy as np\n",
    "\n",
    "def grafico(F,a,b,delta,titulo,titulo_x,titulo_y):\n",
    "    \n",
    "    def f(x):\n",
    "        return eval(F)\n",
    "\n",
    "    x = arange(a,b,delta)\n",
    "    y = f(x)\n",
    "\n",
    "    plt.figure(figsize=(3, 3))\n",
    "    \n",
    "    plt.plot(x, y, '-', markersize=8, color='blue')\n",
    "    \n",
    "    plt.title(titulo), plt.xlabel(titulo_x), plt.ylabel(titulo_y)\n",
    "\n",
    "    plt.show()"
   ]
  },
  {
   "cell_type": "code",
   "execution_count": 2,
   "id": "5e73458f",
   "metadata": {
    "id": "5e73458f",
    "slideshow": {
     "slide_type": "slide"
    }
   },
   "outputs": [
    {
     "data": {
      "image/png": "[encoded data removed]",
      "text/plain": [
       "<Figure size 300x300 with 1 Axes>"
      ]
     },
     "metadata": {},
     "output_type": "display_data"
    }
   ],
   "source": [
    "grafico('x**2',0,2,0.01,'Altitude de um móvel','Tempo(s)','Altura(m)')"
   ]
  },
  {
   "cell_type": "code",
   "execution_count": 3,
   "id": "712016f0",
   "metadata": {
    "id": "712016f0",
    "slideshow": {
     "slide_type": "slide"
    }
   },
   "outputs": [
    {
     "data": {
      "image/png": "[encoded data removed]",
      "text/plain": [
       "<Figure size 300x300 with 1 Axes>"
      ]
     },
     "metadata": {},
     "output_type": "display_data"
    }
   ],
   "source": [
    "grafico('np.sin(x)',0,2*np.pi,0.1,'Sinal','x','y')"
   ]
  },
  {
   "cell_type": "markdown",
   "id": "09663a51",
   "metadata": {
    "id": "09663a51",
    "slideshow": {
     "slide_type": "slide"
    }
   },
   "source": [
    "Tratando-se de gráficos, é possível utilizar uma variedade de recursos para personalizar a visualização, como grid, legendas, rótulos e cores. Com esses recursos, é possível criar gráficos que atendam à necessidades específicas, proporcionando uma melhor compreensão dos dados apresentados."
   ]
  },
  {
   "cell_type": "markdown",
   "id": "533755d5",
   "metadata": {
    "id": "533755d5",
    "slideshow": {
     "slide_type": "slide"
    }
   },
   "source": [
    "### Gráfico 3d de uma função nas variáveis x,y"
   ]
  },
  {
   "cell_type": "code",
   "execution_count": null,
   "id": "a43a4231",
   "metadata": {
    "id": "a43a4231",
    "slideshow": {
     "slide_type": "slide"
    }
   },
   "outputs": [],
   "source": [
    "import numpy as np\n",
    "import matplotlib.pyplot as plt\n",
    "from mpl_toolkits.mplot3d import Axes3D\n",
    "import ipywidgets as widgets\n",
    "from IPython.display import display\n",
    "\n",
    "# Dados de exemplo\n",
    "x = np.arange(-5, 5, 0.25)\n",
    "y = np.arange(-5, 5, 0.25)\n",
    "x, y = np.meshgrid(x, y)\n",
    "z = np.sin(np.sqrt(x**2 + y**2))"
   ]
  },
  {
   "cell_type": "code",
   "execution_count": null,
   "id": "0e319686",
   "metadata": {
    "id": "0e319686",
    "slideshow": {
     "slide_type": "slide"
    }
   },
   "outputs": [],
   "source": [
    "# Criação do gráfico\n",
    "fig = plt.figure()\n",
    "ax = fig.add_subplot(111, projection='3d')\n",
    "grafico = ax.plot_surface(x, y, z)\n",
    "\n",
    "# Configurações adicionais\n",
    "ax.set_xlabel('X Label'), ax.set_ylabel('Y Label'), ax.set_zlabel('Z Label'),\n",
    "ax.set_title('Gráfico 3D de exemplo')\n",
    "plt.show()"
   ]
  },
  {
   "cell_type": "markdown",
   "id": "238c5df6",
   "metadata": {
    "id": "238c5df6",
    "slideshow": {
     "slide_type": "slide"
    }
   },
   "source": [
    "### Recursos Aprimorados..."
   ]
  },
  {
   "cell_type": "code",
   "execution_count": null,
   "id": "46464791",
   "metadata": {
    "id": "46464791",
    "slideshow": {
     "slide_type": "slide"
    }
   },
   "outputs": [],
   "source": [
    "# Função para atualizar o gráfico\n",
    "def atualizar_grafico(angle):\n",
    "    ax.view_init(elev=10, azim=angle)\n",
    "    display(fig)\n",
    "\n",
    "# Criação do widget\n",
    "slider = widgets.FloatSlider(min=0, max=360, step=1, value=0, description='Ângulo:')\n",
    "interativo = widgets.interactive_output(atualizar_grafico, {'angle': slider})\n",
    "display(interativo, slider)"
   ]
  },
  {
   "cell_type": "markdown",
   "id": "824ac7ea",
   "metadata": {
    "id": "824ac7ea",
    "slideshow": {
     "slide_type": "slide"
    }
   },
   "source": [
    "### Vejamos uma breve descrição sobre alguns dos módulos usados acima."
   ]
  },
  {
   "cell_type": "markdown",
   "id": "a22f8911",
   "metadata": {
    "id": "a22f8911",
    "slideshow": {
     "slide_type": "slide"
    }
   },
   "source": [
    "**mpl_toolkits.mplot3d:** é um módulo do Matplotlib que fornece ferramentas para criar gráficos em 3D. O ***Axes3D*** é uma classe desse módulo que permite criar um objeto de eixos em 3D para plotar gráficos 3D.\n",
    "\n",
    "**ipywidgets:** é uma biblioteca de widgets interativos para notebooks Jupyter. Ela permite criar widgets interativos, como sliders, caixas de seleção e botões, que permitem aos usuários interagir com o código e ver os resultados em tempo real.\n",
    "\n",
    "**IPython.display:** é um módulo do IPython que fornece recursos para exibir conteúdo em notebooks Jupyter. Ele inclui funções para exibir objetos Python em HTML, como gráficos, tabelas e vídeos, além de widgets interativos criados com a biblioteca ***ipywidgets***. A função ***display()*** do ***IPython.display*** é usada para exibir esses objetos na saída do notebook."
   ]
  },
  {
   "cell_type": "markdown",
   "id": "0d5686b8",
   "metadata": {
    "id": "0d5686b8",
    "slideshow": {
     "slide_type": "slide"
    }
   },
   "source": [
    "## <font color='black'>5. Trabalhando Com Matrizes </font>"
   ]
  },
  {
   "cell_type": "code",
   "execution_count": null,
   "id": "09dfd3f0",
   "metadata": {
    "id": "09dfd3f0",
    "slideshow": {
     "slide_type": "slide"
    }
   },
   "outputs": [],
   "source": [
    "# Inserção de uma matriz\n",
    "import numpy as np\n",
    "\n",
    "A = np.matrix([[1,5,3],\n",
    "               [2,1,0],\n",
    "               [3,4,1]])"
   ]
  },
  {
   "cell_type": "code",
   "execution_count": null,
   "id": "a2b07756",
   "metadata": {
    "id": "a2b07756",
    "slideshow": {
     "slide_type": "-"
    }
   },
   "outputs": [],
   "source": [
    "print(A)"
   ]
  },
  {
   "cell_type": "code",
   "execution_count": null,
   "id": "1240c530",
   "metadata": {
    "id": "1240c530",
    "slideshow": {
     "slide_type": "slide"
    }
   },
   "outputs": [],
   "source": [
    "A = np.matrix([[1,5,3],\n",
    "               [2,1,0],\n",
    "               [3,4,1]])\n",
    "\n",
    "# Dimensão de uma matriz\n",
    "d = A.shape\n",
    "print(d)"
   ]
  },
  {
   "cell_type": "markdown",
   "id": "8b5a09dd",
   "metadata": {
    "id": "8b5a09dd",
    "slideshow": {
     "slide_type": "slide"
    }
   },
   "source": [
    "Lembre-se que a indexação em Python se difere do que estamos acostumados em matemática. Em vez de começar a indexação a partir de 1, em Python ela começa a partir de 0. Portanto, o primeiro elemento de uma matriz é identificado como $a_{00}$, e não $a_{11}$ como estamos acostumados na matemática. \n",
    "\n",
    "Para acessar as componentes de uma matriz em Python, é possível utilizar diversas operações, como acessar linhas, colunas, elementos específicos e realizar operações matemáticas com as mesmas."
   ]
  },
  {
   "cell_type": "code",
   "execution_count": null,
   "id": "6fae8b57",
   "metadata": {
    "id": "6fae8b57",
    "slideshow": {
     "slide_type": "slide"
    }
   },
   "outputs": [],
   "source": [
    "A = np.matrix([[1,5,3],\n",
    "               [2,1,0],\n",
    "               [3,4,1]])\n",
    "\n",
    "# Consultando elementos, linhas e colunas\n",
    "print(A[0,2]) # Mostra o elemento da linha 0, coluna 2\n",
    "print(A[1]) # Mostra a linha 2\n",
    "print(A.transpose()[1]) # Mostra a coluna 2"
   ]
  },
  {
   "cell_type": "markdown",
   "id": "9e7bd8bc",
   "metadata": {
    "id": "9e7bd8bc",
    "slideshow": {
     "slide_type": "slide"
    }
   },
   "source": [
    "### Matrizes Especiais"
   ]
  },
  {
   "cell_type": "code",
   "execution_count": 4,
   "id": "e14369b9",
   "metadata": {
    "id": "e14369b9",
    "slideshow": {
     "slide_type": "slide"
    }
   },
   "outputs": [
    {
     "name": "stdout",
     "output_type": "stream",
     "text": [
      "[[0 0 0]\n",
      " [0 0 0]]\n"
     ]
    }
   ],
   "source": [
    "# Matriz nula\n",
    "A0 = np.zeros((2,3), dtype = 'int')\n",
    "print(A0)"
   ]
  },
  {
   "cell_type": "code",
   "execution_count": 5,
   "id": "ce27a348",
   "metadata": {
    "id": "ce27a348",
    "slideshow": {
     "slide_type": "slide"
    }
   },
   "outputs": [
    {
     "name": "stdout",
     "output_type": "stream",
     "text": [
      "[[1. 1. 1.]\n",
      " [1. 1. 1.]\n",
      " [1. 1. 1.]]\n"
     ]
    }
   ],
   "source": [
    "# Matriz unitária\n",
    "A1 = np.ones((3,3), dtype = 'float')\n",
    "print(A1)"
   ]
  },
  {
   "cell_type": "code",
   "execution_count": 6,
   "id": "fd6ef9eb",
   "metadata": {
    "id": "fd6ef9eb",
    "slideshow": {
     "slide_type": "slide"
    }
   },
   "outputs": [
    {
     "name": "stdout",
     "output_type": "stream",
     "text": [
      "[[1. 0. 0.]\n",
      " [0. 1. 0.]\n",
      " [0. 0. 1.]]\n"
     ]
    }
   ],
   "source": [
    "# Matriz identidade\n",
    "ident = np.identity(3, dtype = 'float')\n",
    "print(ident)"
   ]
  },
  {
   "cell_type": "code",
   "execution_count": null,
   "id": "a661f794",
   "metadata": {
    "id": "a661f794",
    "slideshow": {
     "slide_type": "slide"
    }
   },
   "outputs": [],
   "source": [
    "# Matriz transposta\n",
    "A = np.matrix([[1,5,3],[2,1,0],[3,4,1]])\n",
    "B = A.transpose()\n",
    "print(A)\n",
    "print(B)"
   ]
  },
  {
   "cell_type": "markdown",
   "id": "b16fd092",
   "metadata": {
    "id": "b16fd092",
    "slideshow": {
     "slide_type": "slide"
    }
   },
   "source": [
    "### Operações Com Matrizes"
   ]
  },
  {
   "cell_type": "code",
   "execution_count": null,
   "id": "973cba57",
   "metadata": {
    "id": "973cba57",
    "slideshow": {
     "slide_type": "slide"
    }
   },
   "outputs": [],
   "source": [
    "A = np.matrix([[1,2],\n",
    "               [2,3]], \n",
    "              dtype = 'float')\n",
    "B = np.matrix([[-1,0],\n",
    "               [1,2]], \n",
    "              dtype = 'float')\n",
    "\n",
    "# Soma de matrizes\n",
    "soma = A + B\n",
    "print(soma)"
   ]
  },
  {
   "cell_type": "code",
   "execution_count": 8,
   "id": "4c915c56",
   "metadata": {
    "id": "4c915c56",
    "slideshow": {
     "slide_type": "slide"
    }
   },
   "outputs": [
    {
     "name": "stdout",
     "output_type": "stream",
     "text": [
      "[[1. 4.]\n",
      " [1. 6.]]\n"
     ]
    }
   ],
   "source": [
    "A = np.matrix([[1,2],\n",
    "               [2,3]], \n",
    "              dtype = 'float')\n",
    "B = np.matrix([[-1,0],\n",
    "               [1,2]], \n",
    "              dtype = 'float')\n",
    "\n",
    "# Produto de matrizes\n",
    "prod = A*B # prod = np.dot(A,B)\n",
    "print(A*B)"
   ]
  },
  {
   "cell_type": "code",
   "execution_count": null,
   "id": "b25032c2",
   "metadata": {
    "id": "b25032c2",
    "slideshow": {
     "slide_type": "slide"
    }
   },
   "outputs": [],
   "source": [
    "A = np.matrix([[1,2],\n",
    "               [2,3]], \n",
    "              dtype = 'float')\n",
    "B = np.matrix([[-1,0],\n",
    "               [1,2]], \n",
    "              dtype = 'float')\n",
    "\n",
    "# Produto de uma matriz por um escalar\n",
    "prod_esc = 2*A\n",
    "print(prod_esc)"
   ]
  },
  {
   "cell_type": "code",
   "execution_count": 7,
   "id": "8fe452e5",
   "metadata": {
    "id": "8fe452e5",
    "slideshow": {
     "slide_type": "slide"
    }
   },
   "outputs": [
    {
     "name": "stdout",
     "output_type": "stream",
     "text": [
      "[[-1.  0.]\n",
      " [ 2.  6.]]\n"
     ]
    }
   ],
   "source": [
    "A = np.matrix([[1,2],\n",
    "               [2,3]], \n",
    "              dtype = 'float')\n",
    "B = np.matrix([[-1,0],\n",
    "               [1,2]], \n",
    "              dtype = 'float')\n",
    "\n",
    "# Produto de matrizes termo a termo\n",
    "mult = np.multiply(A,B)\n",
    "print(mult)"
   ]
  },
  {
   "cell_type": "code",
   "execution_count": null,
   "id": "7336c6c0",
   "metadata": {
    "id": "7336c6c0",
    "slideshow": {
     "slide_type": "slide"
    }
   },
   "outputs": [],
   "source": [
    "A = np.matrix([[1,2],\n",
    "               [2,3]], \n",
    "              dtype = 'float')\n",
    "B = np.matrix([[-1,0],\n",
    "               [1,2]], \n",
    "              dtype = 'float')\n",
    "\n",
    "# Inversa de uma matriz\n",
    "inv_A = np.linalg.inv(A)\n",
    "print(inv_A)"
   ]
  },
  {
   "cell_type": "code",
   "execution_count": null,
   "id": "78b8947e",
   "metadata": {
    "id": "78b8947e",
    "slideshow": {
     "slide_type": "slide"
    }
   },
   "outputs": [],
   "source": [
    "A = np.matrix([[1,2],\n",
    "               [2,3]], \n",
    "              dtype = 'float')\n",
    "B = np.matrix([[-1,0],\n",
    "               [1,2]], \n",
    "              dtype = 'float')\n",
    "\n",
    "# Teste \n",
    "print(A*inv_A)"
   ]
  },
  {
   "cell_type": "code",
   "execution_count": null,
   "id": "41bed17c",
   "metadata": {
    "id": "41bed17c",
    "slideshow": {
     "slide_type": "slide"
    }
   },
   "outputs": [],
   "source": [
    "A = np.matrix([[1,2],\n",
    "               [2,3]], \n",
    "              dtype = 'float')\n",
    "B = np.matrix([[-1,0],\n",
    "               [1,2]], \n",
    "              dtype = 'float')\n",
    "\n",
    "# Determinante de uma matriz\n",
    "det_A = np.linalg.det(A)\n",
    "print(det_A)"
   ]
  },
  {
   "cell_type": "markdown",
   "id": "f819c48a",
   "metadata": {
    "id": "f819c48a",
    "slideshow": {
     "slide_type": "slide"
    }
   },
   "source": [
    "# 6. Funções Estatísticas Básicas"
   ]
  },
  {
   "cell_type": "markdown",
   "id": "a3df22f8",
   "metadata": {
    "id": "a3df22f8",
    "slideshow": {
     "slide_type": "slide"
    }
   },
   "source": [
    "Entre as funções estatísticas básicas disponíveis em Python, podemos citar:\n",
    "\n",
    "**np.mean():** para calcular a média aritmética\n",
    "\n",
    "**std.mode():** para calcular a moda (só disponível no módulo statistics)\n",
    "\n",
    "**np.median():** para calcular a mediana\n",
    "\n",
    "**np.var():** para calcular a variância\n",
    "\n",
    "**np.std():** para calcular o desvio padrão\n",
    "\n",
    "**np.percentile():** para calcular percentis\n",
    "\n",
    "**np.corrcoef():** para calcular a matriz de correlação\n",
    "\n",
    "O(s) argumento(s) tem a forma [$x_{0}, x_{1} , \\ldots, x_{n}$] ou **np.array**$([$x_{0}, x_{1} , x_{2}$])."
   ]
  },
  {
   "cell_type": "code",
   "execution_count": null,
   "id": "3d0f66eb",
   "metadata": {
    "id": "3d0f66eb",
    "slideshow": {
     "slide_type": "slide"
    }
   },
   "outputs": [],
   "source": [
    "import numpy as np\n",
    "import statistics as std\n",
    "\n",
    "horas_de_estudo = [2, 5, 6, 7, 8, 10, 12, 14, 15]\n",
    "notas_do_aluno = [5, 6, 7, 8, 9, 10, 10, 10, 10]"
   ]
  },
  {
   "cell_type": "code",
   "execution_count": null,
   "id": "86e1414a",
   "metadata": {
    "id": "86e1414a",
    "slideshow": {
     "slide_type": "-"
    }
   },
   "outputs": [],
   "source": [
    "print(np.mean(horas_de_estudo))\n",
    "print(std.mode(horas_de_estudo))\n",
    "print(np.median(horas_de_estudo))\n",
    "print(np.var(horas_de_estudo))\n",
    "print(np.std(horas_de_estudo))\n",
    "print(min(horas_de_estudo))\n",
    "print(np.max(horas_de_estudo))\n",
    "print(np.percentile(horas_de_estudo,50))\n",
    "print(np.corrcoef(horas_de_estudo,notas_do_aluno)) # Gera uma matriz com as correlações cruzadas"
   ]
  },
  {
   "cell_type": "markdown",
   "id": "5e2f4d18",
   "metadata": {
    "id": "5e2f4d18",
    "slideshow": {
     "slide_type": "slide"
    }
   },
   "source": [
    "# 7. Manipulando Arquivos txt"
   ]
  },
  {
   "cell_type": "markdown",
   "id": "871994c5",
   "metadata": {
    "id": "871994c5",
    "slideshow": {
     "slide_type": "slide"
    }
   },
   "source": [
    "## 7.1 Lendo um txt"
   ]
  },
  {
   "cell_type": "code",
   "execution_count": 9,
   "id": "d997c490",
   "metadata": {
    "id": "d997c490",
    "slideshow": {
     "slide_type": "slide"
    }
   },
   "outputs": [],
   "source": [
    "# Abrindo o arquivo para leitura (verifique o arquivo1 na pasta principal)\n",
    "arq1 = open(\"arquivo1.txt\", \"r\") # r = read"
   ]
  },
  {
   "cell_type": "code",
   "execution_count": 10,
   "id": "b269cb08",
   "metadata": {
    "id": "b269cb08",
    "slideshow": {
     "slide_type": "-"
    }
   },
   "outputs": [
    {
     "name": "stdout",
     "output_type": "stream",
     "text": [
      "Bem vindos ao Minicurso MatemÃ¡tica Com Python.\n"
     ]
    }
   ],
   "source": [
    "# Lendo o arquivo\n",
    "print(arq1.read())"
   ]
  },
  {
   "cell_type": "code",
   "execution_count": 11,
   "id": "c5f6e64a",
   "metadata": {
    "id": "c5f6e64a",
    "slideshow": {
     "slide_type": "-"
    }
   },
   "outputs": [
    {
     "name": "stdout",
     "output_type": "stream",
     "text": [
      "47\n"
     ]
    }
   ],
   "source": [
    "# Contar o número de caracteres\n",
    "print(arq1.tell())"
   ]
  },
  {
   "cell_type": "code",
   "execution_count": 12,
   "id": "624349e3",
   "metadata": {
    "id": "624349e3",
    "slideshow": {
     "slide_type": "-"
    }
   },
   "outputs": [
    {
     "data": {
      "text/plain": [
       "0"
      ]
     },
     "execution_count": 12,
     "metadata": {},
     "output_type": "execute_result"
    }
   ],
   "source": [
    "# Retornar para o iníco do arquivo\n",
    "arq1.seek(0,0)"
   ]
  },
  {
   "cell_type": "code",
   "execution_count": 14,
   "id": "f93fff78",
   "metadata": {
    "id": "f93fff78",
    "slideshow": {
     "slide_type": "-"
    }
   },
   "outputs": [
    {
     "name": "stdout",
     "output_type": "stream",
     "text": [
      " ao Minicu\n"
     ]
    }
   ],
   "source": [
    "# Lendo os primeiros 10 caracteres\n",
    "print(arq1.read(10))"
   ]
  },
  {
   "cell_type": "markdown",
   "id": "21e362d2",
   "metadata": {
    "id": "21e362d2",
    "slideshow": {
     "slide_type": "slide"
    }
   },
   "source": [
    "## <font color='red'>Importante</p></font>\n",
    "Quando um arquivo é aberto em um programa Python, o sistema operacional cria um objeto que mantém o controle do arquivo e permite que o programa leia e escreva nele. Se o arquivo não for fechado corretamente podemos ter problemas como:\n",
    "\n",
    "**Vazamento de memória:** A memória ocupada pelo objeto do arquivo não será liberada e pode levar à falta de memória do sistema.\n",
    "\n",
    "**Perda de dados:** Os dados ainda podem estar armazenados no buffer e não serem gravados no disco. Isso pode levar à perda de dados.\n",
    "\n",
    "**Corrupção de arquivos:** Os dados podem ficar corrompidos, o que pode tornar o arquivo inutilizável."
   ]
  },
  {
   "cell_type": "code",
   "execution_count": null,
   "id": "a1193d04",
   "metadata": {
    "id": "a1193d04",
    "slideshow": {
     "slide_type": "slide"
    }
   },
   "outputs": [],
   "source": [
    "# Fechando um arquivo\n",
    "arq1.close()"
   ]
  },
  {
   "cell_type": "markdown",
   "id": "5d88e5b5",
   "metadata": {
    "id": "5d88e5b5",
    "slideshow": {
     "slide_type": "slide"
    }
   },
   "source": [
    "## 7.2 Gravando em um txt"
   ]
  },
  {
   "cell_type": "code",
   "execution_count": null,
   "id": "6c9d77f1",
   "metadata": {
    "id": "6c9d77f1",
    "slideshow": {
     "slide_type": "slide"
    }
   },
   "outputs": [],
   "source": [
    "# Abrindo arquivo para gravação (outro, agora arq2 ao invés de arq1)\n",
    "arq2 = open(\"arquivo2.txt\", \"w\") # w = write"
   ]
  },
  {
   "cell_type": "code",
   "execution_count": null,
   "id": "8747511b",
   "metadata": {
    "id": "8747511b",
    "slideshow": {
     "slide_type": "-"
    }
   },
   "outputs": [],
   "source": [
    "# Como abrimos o arquivo apenas para gravação, NÃO CONSEGUIREMOS usar comandos de leitura.\n",
    "print(arq2.read())"
   ]
  },
  {
   "cell_type": "code",
   "execution_count": null,
   "id": "664d8252",
   "metadata": {
    "id": "664d8252",
    "slideshow": {
     "slide_type": "-"
    }
   },
   "outputs": [],
   "source": [
    "# Gravando arquivo\n",
    "arq2.write(\"Matemática Com Python.\")"
   ]
  },
  {
   "cell_type": "code",
   "execution_count": null,
   "id": "4f1c534a",
   "metadata": {
    "id": "4f1c534a",
    "slideshow": {
     "slide_type": "-"
    }
   },
   "outputs": [],
   "source": [
    "arq2.close()"
   ]
  },
  {
   "cell_type": "code",
   "execution_count": null,
   "id": "6b13626f",
   "metadata": {
    "id": "6b13626f",
    "slideshow": {
     "slide_type": "slide"
    }
   },
   "outputs": [],
   "source": [
    "# Lendo arquivo gravado\n",
    "arq2 = open(\"arquivo2.txt\", \"r\")"
   ]
  },
  {
   "cell_type": "code",
   "execution_count": null,
   "id": "1364dd9a",
   "metadata": {
    "id": "1364dd9a",
    "slideshow": {
     "slide_type": "-"
    }
   },
   "outputs": [],
   "source": [
    "print(arq2.read())"
   ]
  },
  {
   "cell_type": "code",
   "execution_count": null,
   "id": "ec7972ac",
   "metadata": {
    "id": "ec7972ac",
    "slideshow": {
     "slide_type": "-"
    }
   },
   "outputs": [],
   "source": [
    "# Acrescentando conteúdo\n",
    "arq2 = open(\"arquivo2.txt\", \"a\") # a = append"
   ]
  },
  {
   "cell_type": "code",
   "execution_count": null,
   "id": "a8ff429a",
   "metadata": {
    "id": "a8ff429a",
    "slideshow": {
     "slide_type": "-"
    }
   },
   "outputs": [],
   "source": [
    "arq2.write(\" Professor Allan.\")"
   ]
  },
  {
   "cell_type": "code",
   "execution_count": null,
   "id": "80ec2fed",
   "metadata": {
    "id": "80ec2fed",
    "slideshow": {
     "slide_type": "-"
    }
   },
   "outputs": [],
   "source": [
    "arq2.close()"
   ]
  },
  {
   "cell_type": "code",
   "execution_count": null,
   "id": "4b96c4ef",
   "metadata": {
    "id": "4b96c4ef",
    "slideshow": {
     "slide_type": "slide"
    }
   },
   "outputs": [],
   "source": [
    "arq2 = open(\"arquivo2.txt\", \"r\")"
   ]
  },
  {
   "cell_type": "code",
   "execution_count": null,
   "id": "abdfe1b5",
   "metadata": {
    "id": "abdfe1b5",
    "slideshow": {
     "slide_type": "-"
    }
   },
   "outputs": [],
   "source": [
    "print(arq2.read())"
   ]
  },
  {
   "cell_type": "code",
   "execution_count": null,
   "id": "ecbdd582",
   "metadata": {
    "id": "ecbdd582",
    "slideshow": {
     "slide_type": "-"
    }
   },
   "outputs": [],
   "source": [
    "arq2.seek(0,0)"
   ]
  },
  {
   "cell_type": "code",
   "execution_count": null,
   "id": "5e33c3fa",
   "metadata": {
    "id": "5e33c3fa",
    "slideshow": {
     "slide_type": "-"
    }
   },
   "outputs": [],
   "source": [
    "print(arq2.read())"
   ]
  },
  {
   "cell_type": "markdown",
   "id": "c33149c3",
   "metadata": {
    "id": "c33149c3",
    "slideshow": {
     "slide_type": "slide"
    }
   },
   "source": [
    "# 8. Manipulando Arquivos CSV"
   ]
  },
  {
   "cell_type": "markdown",
   "id": "7d895e98",
   "metadata": {
    "id": "7d895e98",
    "slideshow": {
     "slide_type": "slide"
    }
   },
   "source": [
    "# 8.1 Lendo um CSV"
   ]
  },
  {
   "cell_type": "markdown",
   "id": "43463829",
   "metadata": {
    "id": "43463829",
    "slideshow": {
     "slide_type": "slide"
    }
   },
   "source": [
    "O site a seguir conta com uma grande base de dados **CSV**, **JSON**, **SQLite** e **BigQuery**.\n",
    "\n",
    "https://www.kaggle.com/datasets\n",
    "\n",
    "O arquivo a ser usado pode ser baixado diretamente do endereço:\n",
    "\n",
    "https://www.kaggle.com/datasets/rsadiq/salary"
   ]
  },
  {
   "cell_type": "code",
   "execution_count": 15,
   "id": "19ea5da7",
   "metadata": {
    "id": "19ea5da7",
    "slideshow": {
     "slide_type": "-"
    }
   },
   "outputs": [],
   "source": [
    "arq_aberto = open('Salary.csv', 'r')"
   ]
  },
  {
   "cell_type": "code",
   "execution_count": 18,
   "id": "664281a7",
   "metadata": {
    "id": "664281a7",
    "slideshow": {
     "slide_type": "-"
    }
   },
   "outputs": [],
   "source": [
    "data = arq_aberto.read()"
   ]
  },
  {
   "cell_type": "code",
   "execution_count": 19,
   "id": "a69d8ff6",
   "metadata": {
    "id": "a69d8ff6",
    "slideshow": {
     "slide_type": "-"
    }
   },
   "outputs": [
    {
     "name": "stdout",
     "output_type": "stream",
     "text": [
      "YearsExperience,Salary\n",
      "1.1,39343\n",
      "1.3,46205\n",
      "1.5,37731\n",
      "2,43525\n",
      "2.2,39891\n",
      "2.9,56642\n",
      "3,60150\n",
      "3.2,54445\n",
      "3.2,64445\n",
      "3.7,57189\n",
      "3.9,63218\n",
      "4,55794\n",
      "4,56957\n",
      "4.1,57081\n",
      "4.5,61111\n",
      "4.9,67938\n",
      "5.1,66029\n",
      "5.3,83088\n",
      "5.9,81363\n",
      "6,93940\n",
      "6.8,91738\n",
      "7.1,98273\n",
      "7.9,101302\n",
      "8.2,113812\n",
      "8.7,109431\n",
      "9,105582\n",
      "9.5,116969\n",
      "9.6,112635\n",
      "10.3,122391\n",
      "10.5,121872\n",
      "11.2,127345\n",
      "11.5,126756\n",
      "12.3,128765\n",
      "12.9,135675\n",
      "13.5,139465\n",
      "\n"
     ]
    }
   ],
   "source": [
    "print(data)"
   ]
  },
  {
   "cell_type": "code",
   "execution_count": 20,
   "id": "fc487223",
   "metadata": {
    "id": "fc487223",
    "slideshow": {
     "slide_type": "slide"
    }
   },
   "outputs": [],
   "source": [
    "rows = data.split('\\n')"
   ]
  },
  {
   "cell_type": "code",
   "execution_count": 21,
   "id": "eb03c179",
   "metadata": {
    "id": "eb03c179",
    "slideshow": {
     "slide_type": "-"
    }
   },
   "outputs": [
    {
     "name": "stdout",
     "output_type": "stream",
     "text": [
      "['YearsExperience,Salary', '1.1,39343', '1.3,46205', '1.5,37731', '2,43525', '2.2,39891', '2.9,56642', '3,60150', '3.2,54445', '3.2,64445', '3.7,57189', '3.9,63218', '4,55794', '4,56957', '4.1,57081', '4.5,61111', '4.9,67938', '5.1,66029', '5.3,83088', '5.9,81363', '6,93940', '6.8,91738', '7.1,98273', '7.9,101302', '8.2,113812', '8.7,109431', '9,105582', '9.5,116969', '9.6,112635', '10.3,122391', '10.5,121872', '11.2,127345', '11.5,126756', '12.3,128765', '12.9,135675', '13.5,139465', '']\n"
     ]
    }
   ],
   "source": [
    "print(rows)"
   ]
  },
  {
   "cell_type": "code",
   "execution_count": 22,
   "id": "bfc38439",
   "metadata": {
    "id": "bfc38439",
    "slideshow": {
     "slide_type": "-"
    }
   },
   "outputs": [],
   "source": [
    "arq_aberto.close()"
   ]
  },
  {
   "cell_type": "markdown",
   "id": "523782f2",
   "metadata": {
    "id": "523782f2",
    "slideshow": {
     "slide_type": "slide"
    }
   },
   "source": [
    "## 8.2 Dividindo um CSV em Colunas"
   ]
  },
  {
   "cell_type": "code",
   "execution_count": 23,
   "id": "f82c2c95",
   "metadata": {
    "id": "f82c2c95",
    "slideshow": {
     "slide_type": "slide"
    }
   },
   "outputs": [],
   "source": [
    "arq_aberto = open('Salary.csv', 'r')"
   ]
  },
  {
   "cell_type": "code",
   "execution_count": 24,
   "id": "64f47e59",
   "metadata": {
    "id": "64f47e59",
    "slideshow": {
     "slide_type": "-"
    }
   },
   "outputs": [],
   "source": [
    "data = arq_aberto.read()"
   ]
  },
  {
   "cell_type": "markdown",
   "id": "18156558",
   "metadata": {
    "id": "18156558",
    "slideshow": {
     "slide_type": "slide"
    }
   },
   "source": [
    "### split('\\n')\n",
    "\n",
    "O comando arquivo.split('\\n') divide uma string chamada arquivo em uma lista de substrings, usando o caractere de nova linha (\\n) como separador. Isto é, em cada linha saltada (usando-se '\\n') insere-se uma vígurla semparando os elementos de cada linha."
   ]
  },
  {
   "cell_type": "code",
   "execution_count": 25,
   "id": "97633274",
   "metadata": {
    "id": "97633274",
    "slideshow": {
     "slide_type": "slide"
    }
   },
   "outputs": [
    {
     "name": "stdout",
     "output_type": "stream",
     "text": [
      "Allan\n",
      "Professor\n",
      "IFBA\n"
     ]
    }
   ],
   "source": [
    "# Exemplo\n",
    "arquivo = 'Allan\\nProfessor\\nIFBA'\n",
    "print(arquivo)"
   ]
  },
  {
   "cell_type": "code",
   "execution_count": 26,
   "id": "5ab57911",
   "metadata": {
    "id": "5ab57911",
    "slideshow": {
     "slide_type": "-"
    }
   },
   "outputs": [
    {
     "name": "stdout",
     "output_type": "stream",
     "text": [
      "['Allan', 'Professor', 'IFBA']\n"
     ]
    }
   ],
   "source": [
    "arquivo1 = arquivo.split('\\n')\n",
    "print(arquivo1)"
   ]
  },
  {
   "cell_type": "code",
   "execution_count": 27,
   "id": "bced7839",
   "metadata": {
    "id": "bced7839",
    "slideshow": {
     "slide_type": "slide"
    }
   },
   "outputs": [],
   "source": [
    "rows = data.split('\\n')"
   ]
  },
  {
   "cell_type": "code",
   "execution_count": 28,
   "id": "f4a2ea97",
   "metadata": {
    "id": "f4a2ea97",
    "slideshow": {
     "slide_type": "slide"
    }
   },
   "outputs": [],
   "source": [
    "full_data = []"
   ]
  },
  {
   "cell_type": "code",
   "execution_count": 29,
   "id": "f8521396",
   "metadata": {
    "id": "f8521396",
    "slideshow": {
     "slide_type": "-"
    }
   },
   "outputs": [],
   "source": [
    "for row in rows:\n",
    "    split_row = row.split(\",\")\n",
    "    full_data.append(split_row)"
   ]
  },
  {
   "cell_type": "code",
   "execution_count": 30,
   "id": "6a33f738",
   "metadata": {
    "id": "6a33f738",
    "slideshow": {
     "slide_type": "-"
    }
   },
   "outputs": [
    {
     "name": "stdout",
     "output_type": "stream",
     "text": [
      "[['YearsExperience', 'Salary'], ['1.1', '39343'], ['1.3', '46205'], ['1.5', '37731'], ['2', '43525'], ['2.2', '39891'], ['2.9', '56642'], ['3', '60150'], ['3.2', '54445'], ['3.2', '64445'], ['3.7', '57189'], ['3.9', '63218'], ['4', '55794'], ['4', '56957'], ['4.1', '57081'], ['4.5', '61111'], ['4.9', '67938'], ['5.1', '66029'], ['5.3', '83088'], ['5.9', '81363'], ['6', '93940'], ['6.8', '91738'], ['7.1', '98273'], ['7.9', '101302'], ['8.2', '113812'], ['8.7', '109431'], ['9', '105582'], ['9.5', '116969'], ['9.6', '112635'], ['10.3', '122391'], ['10.5', '121872'], ['11.2', '127345'], ['11.5', '126756'], ['12.3', '128765'], ['12.9', '135675'], ['13.5', '139465'], ['']]\n"
     ]
    }
   ],
   "source": [
    "print(full_data)"
   ]
  },
  {
   "cell_type": "code",
   "execution_count": 31,
   "id": "51847643",
   "metadata": {
    "id": "51847643"
   },
   "outputs": [],
   "source": [
    "arq_aberto.close()"
   ]
  },
  {
   "cell_type": "markdown",
   "id": "2723ef93",
   "metadata": {
    "id": "2723ef93",
    "slideshow": {
     "slide_type": "slide"
    }
   },
   "source": [
    "# 8.3 Contando Linhas em um Arquivo CSV"
   ]
  },
  {
   "cell_type": "code",
   "execution_count": 32,
   "id": "6a498b60",
   "metadata": {
    "id": "6a498b60",
    "slideshow": {
     "slide_type": "slide"
    }
   },
   "outputs": [],
   "source": [
    "arq_aberto = open('Salary.csv', 'r')"
   ]
  },
  {
   "cell_type": "code",
   "execution_count": 33,
   "id": "cda2884d",
   "metadata": {
    "id": "cda2884d",
    "slideshow": {
     "slide_type": "-"
    }
   },
   "outputs": [],
   "source": [
    "data = arq_aberto.read()"
   ]
  },
  {
   "cell_type": "code",
   "execution_count": 34,
   "id": "6ed01062",
   "metadata": {
    "id": "6ed01062",
    "slideshow": {
     "slide_type": "-"
    }
   },
   "outputs": [],
   "source": [
    "rows = data.split('\\n')"
   ]
  },
  {
   "cell_type": "code",
   "execution_count": 35,
   "id": "688bed73",
   "metadata": {
    "id": "688bed73",
    "slideshow": {
     "slide_type": "-"
    }
   },
   "outputs": [],
   "source": [
    "full_data = []"
   ]
  },
  {
   "cell_type": "code",
   "execution_count": 36,
   "id": "d6f508de",
   "metadata": {
    "id": "d6f508de",
    "slideshow": {
     "slide_type": "-"
    }
   },
   "outputs": [],
   "source": [
    "for row in rows:\n",
    "    split_row = row.split(\",\")\n",
    "    full_data.append(split_row)"
   ]
  },
  {
   "cell_type": "code",
   "execution_count": 37,
   "id": "2226411e",
   "metadata": {
    "id": "2226411e",
    "slideshow": {
     "slide_type": "-"
    }
   },
   "outputs": [],
   "source": [
    "count = 0\n",
    "for row in full_data:\n",
    "    count += 1   # Equivalente a: count = count + 1"
   ]
  },
  {
   "cell_type": "code",
   "execution_count": 38,
   "id": "3d265ff2",
   "metadata": {
    "id": "3d265ff2",
    "outputId": "a6b6eb90-23a7-4d9f-adfd-9f730de0b438",
    "slideshow": {
     "slide_type": "-"
    }
   },
   "outputs": [
    {
     "name": "stdout",
     "output_type": "stream",
     "text": [
      "37\n"
     ]
    }
   ],
   "source": [
    "print(count)"
   ]
  },
  {
   "cell_type": "markdown",
   "id": "f7f7c57d",
   "metadata": {
    "id": "f7f7c57d",
    "slideshow": {
     "slide_type": "slide"
    }
   },
   "source": [
    "### Acessando elementos internos"
   ]
  },
  {
   "cell_type": "code",
   "execution_count": 218,
   "id": "d2d7da86",
   "metadata": {
    "id": "d2d7da86",
    "outputId": "ceca9f6d-9a1d-440b-bc4e-5a79de3bb054",
    "scrolled": false,
    "slideshow": {
     "slide_type": "slide"
    }
   },
   "outputs": [
    {
     "name": "stdout",
     "output_type": "stream",
     "text": [
      "[['YearsExperience', 'Salary'], ['1.1', '39343'], ['1.3', '46205'], ['1.5', '37731'], ['2', '43525'], ['2.2', '39891'], ['2.9', '56642'], ['3', '60150'], ['3.2', '54445'], ['3.2', '64445'], ['3.7', '57189'], ['3.9', '63218'], ['4', '55794'], ['4', '56957'], ['4.1', '57081'], ['4.5', '61111'], ['4.9', '67938'], ['5.1', '66029'], ['5.3', '83088'], ['5.9', '81363'], ['6', '93940'], ['6.8', '91738'], ['7.1', '98273'], ['7.9', '101302'], ['8.2', '113812'], ['8.7', '109431'], ['9', '105582'], ['9.5', '116969'], ['9.6', '112635'], ['10.3', '122391'], ['10.5', '121872'], ['11.2', '127345'], ['11.5', '126756'], ['12.3', '128765'], ['12.9', '135675'], ['13.5', '139465'], ['']]\n"
     ]
    }
   ],
   "source": [
    "print(full_data)"
   ]
  },
  {
   "cell_type": "code",
   "execution_count": 219,
   "id": "55981b96",
   "metadata": {
    "id": "55981b96",
    "outputId": "6b120c3c-779c-4346-9925-e92bd4ca528c",
    "slideshow": {
     "slide_type": "-"
    }
   },
   "outputs": [
    {
     "name": "stdout",
     "output_type": "stream",
     "text": [
      "YearsExperience\n",
      "Salary\n"
     ]
    }
   ],
   "source": [
    "print(full_data[0][0])\n",
    "print(full_data[0][1])"
   ]
  },
  {
   "cell_type": "code",
   "execution_count": 220,
   "id": "95b3c3da",
   "metadata": {
    "id": "95b3c3da",
    "outputId": "1d59ab02-91c5-4943-9592-db93805c196a",
    "slideshow": {
     "slide_type": "-"
    }
   },
   "outputs": [
    {
     "name": "stdout",
     "output_type": "stream",
     "text": [
      "<class 'str'>\n"
     ]
    }
   ],
   "source": [
    "print(type(full_data[0][0]))    "
   ]
  },
  {
   "cell_type": "markdown",
   "id": "b670e0fa",
   "metadata": {
    "id": "b670e0fa",
    "slideshow": {
     "slide_type": "slide"
    }
   },
   "source": [
    "### Gerando vetores x,y a partir dos dados full_data"
   ]
  },
  {
   "cell_type": "code",
   "execution_count": 221,
   "id": "afebd11f",
   "metadata": {
    "id": "afebd11f"
   },
   "outputs": [],
   "source": [
    "x = []\n",
    "y = []\n",
    "for k in range(1,35):          # 37 -2 (linha de título e linha vazia)\n",
    "    x.append(full_data[k][0])\n",
    "    y.append(full_data[k][1])"
   ]
  },
  {
   "cell_type": "code",
   "execution_count": 222,
   "id": "a7d607c6",
   "metadata": {
    "id": "a7d607c6",
    "outputId": "e61290d0-b50a-45bf-a9f2-0a5b954e494c"
   },
   "outputs": [
    {
     "name": "stdout",
     "output_type": "stream",
     "text": [
      "['1.1', '1.3', '1.5', '2', '2.2', '2.9', '3', '3.2', '3.2', '3.7', '3.9', '4', '4', '4.1', '4.5', '4.9', '5.1', '5.3', '5.9', '6', '6.8', '7.1', '7.9', '8.2', '8.7', '9', '9.5', '9.6', '10.3', '10.5', '11.2', '11.5', '12.3', '12.9']\n",
      "['39343', '46205', '37731', '43525', '39891', '56642', '60150', '54445', '64445', '57189', '63218', '55794', '56957', '57081', '61111', '67938', '66029', '83088', '81363', '93940', '91738', '98273', '101302', '113812', '109431', '105582', '116969', '112635', '122391', '121872', '127345', '126756', '128765', '135675']\n"
     ]
    }
   ],
   "source": [
    "print(x)\n",
    "print(y) "
   ]
  },
  {
   "cell_type": "markdown",
   "id": "616ab053",
   "metadata": {
    "id": "616ab053"
   },
   "source": [
    "### Gerando um gráfico nas variáveis x e y"
   ]
  },
  {
   "cell_type": "code",
   "execution_count": 223,
   "id": "344ea825",
   "metadata": {
    "id": "344ea825"
   },
   "outputs": [],
   "source": [
    "# Importação de módulo para plotagem de gráficos\n",
    "import matplotlib.pyplot as plt\n",
    "\n",
    "def graph():\n",
    "    # Configurações do ambiente gráfico\n",
    "\n",
    "    # Criar figura com tamanho personalizado\n",
    "    plt.figure(figsize=(8, 8))\n",
    "\n",
    "    # Criar gráfico de pontos\n",
    "    plt.plot(x, y, '.', markersize=3, color='blue') # Mude para *,d,-,+,x\n",
    "\n",
    "    # Rótulos\n",
    "    plt.title('Título'), plt.xlabel('Eixo x'), plt.ylabel('Eixo y')\n",
    "\n",
    "    # Exibição do gráfico - funciona como a função print\n",
    "    plt.show()\n"
   ]
  },
  {
   "cell_type": "code",
   "execution_count": 224,
   "id": "71983e83",
   "metadata": {
    "id": "71983e83",
    "outputId": "211b0b8b-956d-48ac-bb57-9790d8455c64"
   },
   "outputs": [
    {
     "data": {
      "image/png": "[encoded data removed]",
      "text/plain": [
       "<Figure size 800x800 with 1 Axes>"
      ]
     },
     "metadata": {},
     "output_type": "display_data"
    }
   ],
   "source": [
    "graph()"
   ]
  },
  {
   "cell_type": "markdown",
   "id": "04dd2228",
   "metadata": {},
   "source": [
    "### Calculando a Correlação Linear entre x e y"
   ]
  },
  {
   "cell_type": "code",
   "execution_count": 225,
   "id": "5d531fb2",
   "metadata": {},
   "outputs": [
    {
     "data": {
      "image/png": "[encoded data removed]",
      "text/plain": [
       "<Figure size 640x480 with 1 Axes>"
      ]
     },
     "metadata": {},
     "output_type": "display_data"
    }
   ],
   "source": [
    "import numpy as np\n",
    "import matplotlib.pyplot as plt\n",
    "\n",
    "# Converte as listas em arrays numpy 1D\n",
    "x1 = np.array(x).astype(float)\n",
    "y1 = np.array(y).astype(float)\n",
    "\n",
    "# Cálculo da correlação\n",
    "corr = np.corrcoef(x1, y1)[0][1]\n",
    "\n",
    "# Plotando o gráfico\n",
    "plt.scatter(x1, y1)\n",
    "plt.title(f\"Correlação Linear: {corr:.2f}\")\n",
    "plt.xlabel(\"x\")\n",
    "plt.ylabel(\"y\")\n",
    "\n",
    "# Linha de Regressão\n",
    "a, b = np.polyfit(x1, y1, 1)\n",
    "plt.plot(x1, a*x1 + b, color='red')\n",
    "\n",
    "# Exibindo o gráfico\n",
    "plt.show()"
   ]
  },
  {
   "cell_type": "code",
   "execution_count": 226,
   "id": "b2f298bc",
   "metadata": {},
   "outputs": [],
   "source": [
    "# Estimativa para 2.5 anos (2.2 -> 39891 e 2.9 -> 56642)\n",
    "# Estimativa para 2.5 anos (4.9 -> 67938 e 2.9 -> 66029)\n",
    "def f_lin(x):\n",
    "    y = a*x+b\n",
    "    return y"
   ]
  },
  {
   "cell_type": "code",
   "execution_count": 227,
   "id": "4a26bf3d",
   "metadata": {},
   "outputs": [
    {
     "name": "stdout",
     "output_type": "stream",
     "text": [
      "50409.08759005235\n",
      "72582.47315706422\n"
     ]
    }
   ],
   "source": [
    "teste_1 = 2.5\n",
    "teste_2 = 5\n",
    "print(f_lin(teste_1))\n",
    "print(f_lin(teste_2))"
   ]
  },
  {
   "cell_type": "markdown",
   "id": "60959573",
   "metadata": {},
   "source": [
    "## Treinando Uma Rede Neural"
   ]
  },
  {
   "cell_type": "code",
   "execution_count": 228,
   "id": "d9ecf886",
   "metadata": {},
   "outputs": [],
   "source": [
    "import csv\n",
    "import numpy as np\n",
    "from sklearn.model_selection import train_test_split\n",
    "\n",
    "# Ler o arquivo CSV e armazenar os dados em uma lista\n",
    "with open('Salary.csv') as csv_file:\n",
    "    csv_reader = csv.reader(csv_file)\n",
    "    data = list(csv_reader)\n",
    "\n",
    "# Converter os dados para o formato de entrada do programa\n",
    "header = data[0]\n",
    "data = data[1:-1]\n",
    "x = np.array([list(map(float, row[:-1])) for row in data])\n",
    "y = np.array([list(map(float, [row[-1]])) for row in data])\n",
    "\n",
    "# Dividir os dados em conjuntos de treinamento e validação\n",
    "x_train, x_val, y_train, y_val = train_test_split(x, y, test_size=0.1, random_state=42)"
   ]
  },
  {
   "cell_type": "code",
   "execution_count": 229,
   "id": "faf24f96",
   "metadata": {},
   "outputs": [
    {
     "name": "stdout",
     "output_type": "stream",
     "text": [
      "x_train = [[ 3.2]\n",
      " [ 8.7]\n",
      " [ 7.1]\n",
      " [ 4. ]\n",
      " [12.3]\n",
      " [ 3.7]\n",
      " [ 1.1]\n",
      " [ 2.2]\n",
      " [ 5.1]\n",
      " [ 5.3]\n",
      " [ 2.9]\n",
      " [ 4.1]\n",
      " [ 4. ]\n",
      " [ 1.3]\n",
      " [ 1.5]\n",
      " [11.2]\n",
      " [ 2. ]\n",
      " [10.5]\n",
      " [ 8.2]\n",
      " [11.5]\n",
      " [ 7.9]\n",
      " [ 5.9]\n",
      " [ 9. ]\n",
      " [ 3. ]\n",
      " [ 6.8]\n",
      " [12.9]\n",
      " [ 3.2]\n",
      " [ 3.9]\n",
      " [ 4.5]\n",
      " [10.3]]\n",
      "y_train = [[ 64445.]\n",
      " [109431.]\n",
      " [ 98273.]\n",
      " [ 56957.]\n",
      " [128765.]\n",
      " [ 57189.]\n",
      " [ 39343.]\n",
      " [ 39891.]\n",
      " [ 66029.]\n",
      " [ 83088.]\n",
      " [ 56642.]\n",
      " [ 57081.]\n",
      " [ 55794.]\n",
      " [ 46205.]\n",
      " [ 37731.]\n",
      " [127345.]\n",
      " [ 43525.]\n",
      " [121872.]\n",
      " [113812.]\n",
      " [126756.]\n",
      " [101302.]\n",
      " [ 81363.]\n",
      " [105582.]\n",
      " [ 60150.]\n",
      " [ 91738.]\n",
      " [135675.]\n",
      " [ 54445.]\n",
      " [ 63218.]\n",
      " [ 61111.]\n",
      " [122391.]]\n",
      "x_val = [[4.9]\n",
      " [6. ]\n",
      " [9.6]\n",
      " [9.5]]\n",
      "y_val = [[ 67938.]\n",
      " [ 93940.]\n",
      " [112635.]\n",
      " [116969.]]\n"
     ]
    }
   ],
   "source": [
    "print(\"x_train =\", x_train)\n",
    "print(\"y_train =\", y_train)\n",
    "print(\"x_val =\", x_val)\n",
    "print(\"y_val =\", y_val)"
   ]
  },
  {
   "cell_type": "code",
   "execution_count": 232,
   "id": "a0df2191",
   "metadata": {},
   "outputs": [
    {
     "name": "stdout",
     "output_type": "stream",
     "text": [
      "1/1 [==============================] - 0s 127ms/step\n",
      "[[50163.8 ]\n",
      " [72212.56]]\n"
     ]
    },
    {
     "data": {
      "text/plain": [
       "<keras.callbacks.History at 0x1f38d9fd730>"
      ]
     },
     "execution_count": 232,
     "metadata": {},
     "output_type": "execute_result"
    }
   ],
   "source": [
    "import numpy as np\n",
    "from keras.models import Sequential\n",
    "from keras.layers import Dense\n",
    "from keras.regularizers import l2\n",
    "\n",
    "# Definir o número de camadas e neurônios\n",
    "num_linear_layers = 20\n",
    "num_relu_layers = 0\n",
    "num_neurons = 200\n",
    "\n",
    "# Criar o modelo de rede neural\n",
    "model = Sequential()\n",
    "\n",
    "# Adicionar camadas lineares\n",
    "for i in range(num_linear_layers):\n",
    "    model.add(Dense(num_neurons, activation='linear'))\n",
    "\n",
    "# Adicionar camadas com ativação 'relu'\n",
    "for i in range(num_relu_layers):\n",
    "    model.add(Dense(num_neurons, activation='relu'))\n",
    "\n",
    "# Adicionar camada de saída\n",
    "model.add(Dense(1, activation='linear', kernel_regularizer=l2(0.01)))\n",
    "\n",
    "# Compilar o modelo\n",
    "model.compile(loss='mean_squared_error', optimizer='adam')\n",
    "\n",
    "# Treinar o modelo\n",
    "model.fit(x_train, y_train, epochs=1000, verbose=0)\n",
    "\n",
    "# Fazer previsões para novos valores de x\n",
    "x_new = np.array([[teste_1],[teste_2]])\n",
    "y_new = model.predict(x_new)\n",
    "\n",
    "print(y_new)\n",
    "\n",
    "# Validação do modelo\n",
    "model.fit(x_train, y_train, epochs=1000, verbose=0, validation_data=(x_val, y_val))\n"
   ]
  },
  {
   "cell_type": "code",
   "execution_count": 233,
   "id": "5e7ef0fc",
   "metadata": {},
   "outputs": [
    {
     "name": "stdout",
     "output_type": "stream",
     "text": [
      "Regressão: 50409.08759005235, Rede Neural: 50163.80078125\n",
      "Regressão: 72582.47315706422, Rede Neural: 72212.5625\n"
     ]
    }
   ],
   "source": [
    "print(f'Regressão: {f_lin(teste_1)}, Rede Neural: {y_new[0][0]}')\n",
    "print(f'Regressão: {f_lin(teste_2)}, Rede Neural: {y_new[1][0]}')"
   ]
  },
  {
   "cell_type": "code",
   "execution_count": null,
   "id": "714a099c",
   "metadata": {
    "id": "714a099c",
    "outputId": "b6b27733-4921-497a-8874-2f732a8c4e53",
    "scrolled": true
   },
   "outputs": [],
   "source": [
    "from IPython.core.display import HTML\n",
    "\n",
    "CSS = \"\"\"\n",
    "<style type='text/css'>\n",
    "/* Adicione seu CSS personalizado aqui */\n",
    ".reveal .slides {\n",
    "  font-size: 2.5rem;\n",
    "  width: 110%;\n",
    "  height: 110%;\n",
    "  margin: 0;\n",
    "}\n",
    "\n",
    "<style>\n",
    ".justify {\n",
    "    text-align: justify;\n",
    "    line-height: 1.5;\n",
    "}\n",
    "\n",
    "</style>\n",
    "\n",
    ".container {\n",
    "  width: 80% !important;\n",
    "}\n",
    "\n",
    ".rendered_html {\n",
    "  font-size: 24px;\n",
    "}\n",
    "\n",
    "/* Reduz a fonte dos slides durante a apresentação */\n",
    ".reveal .slides.present {\n",
    "  font-size: 10rem;\n",
    "}\n",
    "\n",
    ".reveal .slides > section > .content {\n",
    "  max-width: 100%;\n",
    "  margin: 0 auto;\n",
    "  padding-top: 0%;\n",
    "  padding-bottom: 0%;\n",
    "  margin-left: 100%;\n",
    "}\n",
    "\n",
    ".reveal .slides > section > .content h1 {\n",
    "  margin-top: 0;\n",
    "  margin-bottom: 2%;\n",
    "}\n",
    "\n",
    ".reveal .slides > section > .content p {\n",
    "  margin-top: 0;\n",
    "  margin-bottom: 2%;\n",
    "}\n",
    "\n",
    "/* Reduz o tamanho da barra superior do Jupyter Notebook */\n",
    "#header {\n",
    "  height: 20px !important;\n",
    "}\n",
    "\n",
    "/* Reduz o tamanho da barra de entrada do Jupyter Notebook */\n",
    ".prompt {\n",
    "  min-width: 0 !important;\n",
    "  padding: 0 !important;\n",
    "  margin: 0 !important;\n",
    "}\n",
    "\n",
    ".prompt + .input_area {\n",
    "  padding-left: 150!important;\n",
    "}\n",
    "\n",
    ".CodeMirror-lines {\n",
    "  padding: 1% !important;\n",
    "}\n",
    "</style>\n",
    "\n",
    "\"\"\"\n",
    "\n",
    "HTML(CSS)\n"
   ]
  }
 ],
 "metadata": {
  "celltoolbar": "Slideshow",
  "colab": {
   "provenance": []
  },
  "kernelspec": {
   "display_name": "Python 3 (ipykernel)",
   "language": "python",
   "name": "python3"
  },
  "language_info": {
   "codemirror_mode": {
    "name": "ipython",
    "version": 3
   },
   "file_extension": ".py",
   "mimetype": "text/x-python",
   "name": "python",
   "nbconvert_exporter": "python",
   "pygments_lexer": "ipython3",
   "version": "3.9.13"
  }
 },
 "nbformat": 4,
 "nbformat_minor": 5
}
